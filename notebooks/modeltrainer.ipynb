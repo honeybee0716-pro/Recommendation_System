{
 "cells": [
  {
   "cell_type": "code",
   "execution_count": 124,
   "metadata": {},
   "outputs": [],
   "source": [
    "# New optimal hyperparameters\n",
    "# model        <__main__.AlternatingLeastSquare object at 0x1...\n",
    "# n_factors                                                   40\n",
    "# n_iter                                                      95\n",
    "# reg                                                        0.1\n",
    "# test_mse                                               10.0342\n",
    "# train_mse                                              4.72275\n",
    "# dtype: object\n",
    "# Regularization: 1.0\n",
    "# Regularization: 10.0\n",
    "# Regularization: 100.0\n",
    "# Factors: 80\n",
    "# Regularization: 0.01\n",
    "# Regularization: 0.1\n",
    "# Regularization: 1.0\n",
    "# Regularization: 10.0\n",
    "# Regularization: 100.0"
   ]
  },
  {
   "cell_type": "code",
   "execution_count": null,
   "metadata": {},
   "outputs": [],
   "source": []
  },
  {
   "cell_type": "code",
   "execution_count": 2,
   "metadata": {},
   "outputs": [],
   "source": [
    "import pandas as pd\n",
    "import numpy as np\n",
    "import random as rn\n",
    "import time\n",
    "np.random.seed(0)\n",
    "import requests"
   ]
  },
  {
   "cell_type": "code",
   "execution_count": 3,
   "metadata": {},
   "outputs": [],
   "source": [
    "# tag = pd.read_csv('movielens-20m-dataset/tag.csv')\n",
    "# link = pd.read_csv('movielens-20m-dataset/link.csv')\n",
    "movies = pd.read_csv('../data/movie.csv')\n",
    "rating = pd.read_csv('../data/rating.csv')\n",
    "# tags = pd.read_csv('movielens-20m-dataset/genome_tags.csv')\n",
    "# scores = pd.read_csv('movielens-20m-dataset/genome_scores.csv')"
   ]
  },
  {
   "cell_type": "code",
   "execution_count": 4,
   "metadata": {},
   "outputs": [
    {
     "data": {
      "text/html": [
       "<div>\n",
       "<style scoped>\n",
       "    .dataframe tbody tr th:only-of-type {\n",
       "        vertical-align: middle;\n",
       "    }\n",
       "\n",
       "    .dataframe tbody tr th {\n",
       "        vertical-align: top;\n",
       "    }\n",
       "\n",
       "    .dataframe thead th {\n",
       "        text-align: right;\n",
       "    }\n",
       "</style>\n",
       "<table border=\"1\" class=\"dataframe\">\n",
       "  <thead>\n",
       "    <tr style=\"text-align: right;\">\n",
       "      <th></th>\n",
       "      <th>movieId</th>\n",
       "      <th>title</th>\n",
       "      <th>genres</th>\n",
       "    </tr>\n",
       "  </thead>\n",
       "  <tbody>\n",
       "    <tr>\n",
       "      <th>0</th>\n",
       "      <td>1</td>\n",
       "      <td>Toy Story (1995)</td>\n",
       "      <td>Adventure|Animation|Children|Comedy|Fantasy</td>\n",
       "    </tr>\n",
       "    <tr>\n",
       "      <th>1</th>\n",
       "      <td>2</td>\n",
       "      <td>Jumanji (1995)</td>\n",
       "      <td>Adventure|Children|Fantasy</td>\n",
       "    </tr>\n",
       "    <tr>\n",
       "      <th>2</th>\n",
       "      <td>3</td>\n",
       "      <td>Grumpier Old Men (1995)</td>\n",
       "      <td>Comedy|Romance</td>\n",
       "    </tr>\n",
       "    <tr>\n",
       "      <th>3</th>\n",
       "      <td>4</td>\n",
       "      <td>Waiting to Exhale (1995)</td>\n",
       "      <td>Comedy|Drama|Romance</td>\n",
       "    </tr>\n",
       "    <tr>\n",
       "      <th>4</th>\n",
       "      <td>5</td>\n",
       "      <td>Father of the Bride Part II (1995)</td>\n",
       "      <td>Comedy</td>\n",
       "    </tr>\n",
       "  </tbody>\n",
       "</table>\n",
       "</div>"
      ],
      "text/plain": [
       "   movieId                               title  \\\n",
       "0        1                    Toy Story (1995)   \n",
       "1        2                      Jumanji (1995)   \n",
       "2        3             Grumpier Old Men (1995)   \n",
       "3        4            Waiting to Exhale (1995)   \n",
       "4        5  Father of the Bride Part II (1995)   \n",
       "\n",
       "                                        genres  \n",
       "0  Adventure|Animation|Children|Comedy|Fantasy  \n",
       "1                   Adventure|Children|Fantasy  \n",
       "2                               Comedy|Romance  \n",
       "3                         Comedy|Drama|Romance  \n",
       "4                                       Comedy  "
      ]
     },
     "execution_count": 4,
     "metadata": {},
     "output_type": "execute_result"
    }
   ],
   "source": [
    "movies.head()"
   ]
  },
  {
   "cell_type": "code",
   "execution_count": 5,
   "metadata": {},
   "outputs": [
    {
     "data": {
      "text/html": [
       "<div>\n",
       "<style scoped>\n",
       "    .dataframe tbody tr th:only-of-type {\n",
       "        vertical-align: middle;\n",
       "    }\n",
       "\n",
       "    .dataframe tbody tr th {\n",
       "        vertical-align: top;\n",
       "    }\n",
       "\n",
       "    .dataframe thead th {\n",
       "        text-align: right;\n",
       "    }\n",
       "</style>\n",
       "<table border=\"1\" class=\"dataframe\">\n",
       "  <thead>\n",
       "    <tr style=\"text-align: right;\">\n",
       "      <th></th>\n",
       "      <th>userId</th>\n",
       "      <th>movieId</th>\n",
       "      <th>rating</th>\n",
       "      <th>timestamp</th>\n",
       "    </tr>\n",
       "  </thead>\n",
       "  <tbody>\n",
       "    <tr>\n",
       "      <th>0</th>\n",
       "      <td>1</td>\n",
       "      <td>2</td>\n",
       "      <td>3.5</td>\n",
       "      <td>2005-04-02 23:53:47</td>\n",
       "    </tr>\n",
       "    <tr>\n",
       "      <th>1</th>\n",
       "      <td>1</td>\n",
       "      <td>29</td>\n",
       "      <td>3.5</td>\n",
       "      <td>2005-04-02 23:31:16</td>\n",
       "    </tr>\n",
       "    <tr>\n",
       "      <th>2</th>\n",
       "      <td>1</td>\n",
       "      <td>32</td>\n",
       "      <td>3.5</td>\n",
       "      <td>2005-04-02 23:33:39</td>\n",
       "    </tr>\n",
       "    <tr>\n",
       "      <th>3</th>\n",
       "      <td>1</td>\n",
       "      <td>47</td>\n",
       "      <td>3.5</td>\n",
       "      <td>2005-04-02 23:32:07</td>\n",
       "    </tr>\n",
       "    <tr>\n",
       "      <th>4</th>\n",
       "      <td>1</td>\n",
       "      <td>50</td>\n",
       "      <td>3.5</td>\n",
       "      <td>2005-04-02 23:29:40</td>\n",
       "    </tr>\n",
       "  </tbody>\n",
       "</table>\n",
       "</div>"
      ],
      "text/plain": [
       "   userId  movieId  rating            timestamp\n",
       "0       1        2     3.5  2005-04-02 23:53:47\n",
       "1       1       29     3.5  2005-04-02 23:31:16\n",
       "2       1       32     3.5  2005-04-02 23:33:39\n",
       "3       1       47     3.5  2005-04-02 23:32:07\n",
       "4       1       50     3.5  2005-04-02 23:29:40"
      ]
     },
     "execution_count": 5,
     "metadata": {},
     "output_type": "execute_result"
    }
   ],
   "source": [
    "rating.head()"
   ]
  },
  {
   "cell_type": "code",
   "execution_count": 5,
   "metadata": {},
   "outputs": [
    {
     "data": {
      "text/html": [
       "<div>\n",
       "<style scoped>\n",
       "    .dataframe tbody tr th:only-of-type {\n",
       "        vertical-align: middle;\n",
       "    }\n",
       "\n",
       "    .dataframe tbody tr th {\n",
       "        vertical-align: top;\n",
       "    }\n",
       "\n",
       "    .dataframe thead th {\n",
       "        text-align: right;\n",
       "    }\n",
       "</style>\n",
       "<table border=\"1\" class=\"dataframe\">\n",
       "  <thead>\n",
       "    <tr style=\"text-align: right;\">\n",
       "      <th></th>\n",
       "      <th>userId</th>\n",
       "      <th>movieId</th>\n",
       "      <th>rating</th>\n",
       "      <th>timestamp</th>\n",
       "    </tr>\n",
       "  </thead>\n",
       "  <tbody>\n",
       "    <tr>\n",
       "      <th>20000258</th>\n",
       "      <td>138493</td>\n",
       "      <td>68954</td>\n",
       "      <td>4.5</td>\n",
       "      <td>2009-11-13 15:42:00</td>\n",
       "    </tr>\n",
       "    <tr>\n",
       "      <th>20000259</th>\n",
       "      <td>138493</td>\n",
       "      <td>69526</td>\n",
       "      <td>4.5</td>\n",
       "      <td>2009-12-03 18:31:48</td>\n",
       "    </tr>\n",
       "    <tr>\n",
       "      <th>20000260</th>\n",
       "      <td>138493</td>\n",
       "      <td>69644</td>\n",
       "      <td>3.0</td>\n",
       "      <td>2009-12-07 18:10:57</td>\n",
       "    </tr>\n",
       "    <tr>\n",
       "      <th>20000261</th>\n",
       "      <td>138493</td>\n",
       "      <td>70286</td>\n",
       "      <td>5.0</td>\n",
       "      <td>2009-11-13 15:42:24</td>\n",
       "    </tr>\n",
       "    <tr>\n",
       "      <th>20000262</th>\n",
       "      <td>138493</td>\n",
       "      <td>71619</td>\n",
       "      <td>2.5</td>\n",
       "      <td>2009-10-17 20:25:36</td>\n",
       "    </tr>\n",
       "  </tbody>\n",
       "</table>\n",
       "</div>"
      ],
      "text/plain": [
       "          userId  movieId  rating            timestamp\n",
       "20000258  138493    68954     4.5  2009-11-13 15:42:00\n",
       "20000259  138493    69526     4.5  2009-12-03 18:31:48\n",
       "20000260  138493    69644     3.0  2009-12-07 18:10:57\n",
       "20000261  138493    70286     5.0  2009-11-13 15:42:24\n",
       "20000262  138493    71619     2.5  2009-10-17 20:25:36"
      ]
     },
     "execution_count": 5,
     "metadata": {},
     "output_type": "execute_result"
    }
   ],
   "source": [
    "rating.tail()"
   ]
  },
  {
   "cell_type": "code",
   "execution_count": 6,
   "metadata": {},
   "outputs": [
    {
     "data": {
      "text/html": [
       "<div>\n",
       "<style scoped>\n",
       "    .dataframe tbody tr th:only-of-type {\n",
       "        vertical-align: middle;\n",
       "    }\n",
       "\n",
       "    .dataframe tbody tr th {\n",
       "        vertical-align: top;\n",
       "    }\n",
       "\n",
       "    .dataframe thead th {\n",
       "        text-align: right;\n",
       "    }\n",
       "</style>\n",
       "<table border=\"1\" class=\"dataframe\">\n",
       "  <thead>\n",
       "    <tr style=\"text-align: right;\">\n",
       "      <th></th>\n",
       "      <th>movieId</th>\n",
       "      <th>title</th>\n",
       "      <th>genres</th>\n",
       "    </tr>\n",
       "  </thead>\n",
       "  <tbody>\n",
       "    <tr>\n",
       "      <th>13876</th>\n",
       "      <td>69526</td>\n",
       "      <td>Transformers: Revenge of the Fallen (2009)</td>\n",
       "      <td>Action|Adventure|Sci-Fi|IMAX</td>\n",
       "    </tr>\n",
       "  </tbody>\n",
       "</table>\n",
       "</div>"
      ],
      "text/plain": [
       "       movieId                                       title  \\\n",
       "13876    69526  Transformers: Revenge of the Fallen (2009)   \n",
       "\n",
       "                             genres  \n",
       "13876  Action|Adventure|Sci-Fi|IMAX  "
      ]
     },
     "execution_count": 6,
     "metadata": {},
     "output_type": "execute_result"
    }
   ],
   "source": [
    "movies[movies['movieId'] == 69526]"
   ]
  },
  {
   "cell_type": "code",
   "execution_count": null,
   "metadata": {},
   "outputs": [],
   "source": []
  },
  {
   "cell_type": "code",
   "execution_count": null,
   "metadata": {},
   "outputs": [],
   "source": []
  },
  {
   "cell_type": "code",
   "execution_count": 311,
   "metadata": {},
   "outputs": [],
   "source": [
    "class AlternatingLeastSquare(object):\n",
    "    USERS_MATRIX = 'users_matrix'\n",
    "    MOVIES_MATRIX = 'movies_matrix'\n",
    "    \n",
    "    def __init__(self, characteristic_matrix, latent_feature_count=50, users_reg=0.0, movies_reg=0.0):\n",
    "        self.characteristic_matrix = characteristic_matrix\n",
    "        self.latent_feature_count = latent_feature_count\n",
    "        self.users_reg = users_reg\n",
    "        self.movies_reg = movies_reg\n",
    "        self.total_users, self.total_movies = self.characteristic_matrix.shape\n",
    "    \n",
    "    @staticmethod\n",
    "    def calculate_mean_squared_error(predicted, actual):\n",
    "        # mse = (np.square(predicted - actual)).mean(axis=ax)\n",
    "        predicted = predicted[actual.nonzero()].flatten()\n",
    "        actual = actual[actual.nonzero()].flatten()\n",
    "        return ((predicted - actual) ** 2).mean()\n",
    "\n",
    "\n",
    "    def train(self, iters=50):\n",
    "        self.users_matrix = np.random.random((self.total_users, self.latent_feature_count))\n",
    "        self.movies_matrix = np.random.random((self.total_movies, self.latent_feature_count))\n",
    "        self.train_continue(iters)\n",
    "    \n",
    "    def train_continue(self, iters=5):\n",
    "        for i in range(iters):\n",
    "            self.users_matrix = self.train_step(self.users_matrix, self.movies_matrix, AlternatingLeastSquare.USERS_MATRIX)\n",
    "            self.movies_matrix = self.train_step(self.movies_matrix, self.users_matrix, AlternatingLeastSquare.MOVIES_MATRIX)\n",
    "            \n",
    "    def train_step(self, variable_matrix, constant_matrix, chance):\n",
    "        \n",
    "        if chance == AlternatingLeastSquare.USERS_MATRIX:\n",
    "            y_dot_y = constant_matrix.T.dot(constant_matrix)\n",
    "            lambda_i = np.identity(y_dot_y.shape[0]) * self.users_reg\n",
    "            \n",
    "            for user_index in range(variable_matrix.shape[0]):\n",
    "                variable_matrix[user_index, :] = np.linalg.solve(y_dot_y + lambda_i,\\\n",
    "                                                                 self.characteristic_matrix[user_index, :].dot(constant_matrix))\n",
    "            \n",
    "        elif chance == AlternatingLeastSquare.MOVIES_MATRIX:\n",
    "            x_dot_x = constant_matrix.T.dot(constant_matrix)\n",
    "            lambda_i = np.identity(x_dot_x.shape[0]) * self.movies_reg\n",
    "            \n",
    "            for movie_index in range(variable_matrix.shape[0]):\n",
    "                variable_matrix[movie_index, :] = np.linalg.solve(x_dot_x + lambda_i,\\\n",
    "                                                                 self.characteristic_matrix[:, movie_index].T.dot(constant_matrix))\n",
    "        return variable_matrix\n",
    "    \n",
    "    def predict(self, user, movie):\n",
    "        return self.users_matrix[user, :].dot(self.movies_matrix[movie, :].T)\n",
    "    \n",
    "    def predict_all(self):\n",
    "        # predictions = np.zeros((self.total_users, self.total_movies))\n",
    "        # for user in xrange(self.total_users):\n",
    "        #     for movie in xrange(self.total_movies):\n",
    "        #         predictions[user, movie] = self.predict(user, movie)\n",
    "\n",
    "        predictions = self.users_matrix.dot(self.movies_matrix.T)\n",
    "                \n",
    "        return predictions\n",
    "    \n",
    "    def get_train_test_error(self, test_data, iters_list):\n",
    "        test_error = []\n",
    "        train_error = []\n",
    "        iters_count_till_now = 0\n",
    "        for iters in iters_list:\n",
    "            start = time.time()\n",
    "            remaining_iters = iters - iters_count_till_now\n",
    "            if remaining_iters < 1:\n",
    "                continue\n",
    "            if iters_count_till_now == 0:\n",
    "                self.train(iters=remaining_iters)\n",
    "            else:\n",
    "                self.train_continue(iters=remaining_iters)\n",
    "            iters_count_till_now += remaining_iters\n",
    "            predicted = self.predict_all()\n",
    "            end = time.time()\n",
    "            test_error.append(AlternatingLeastSquare.calculate_mean_squared_error(predicted, test_data))\n",
    "            train_error.append(AlternatingLeastSquare.calculate_mean_squared_error(predicted, self.characteristic_matrix))\n",
    "            print \"After [%d] itertions, Time taken [%d] secs, Training error: [%f], Test error: [%f]\"%(iters_count_till_now, end-start, train_error[-1], test_error[-1])\n",
    "        return train_error, test_error\n"
   ]
  },
  {
   "cell_type": "code",
   "execution_count": 200,
   "metadata": {},
   "outputs": [],
   "source": [
    "def loadDatasets():\n",
    "    movies = pd.read_csv('movielens-20m-dataset/movie.csv')\n",
    "    ratings = pd.read_csv('movielens-20m-dataset/rating.csv')\n",
    "    return movies, ratings"
   ]
  },
  {
   "cell_type": "code",
   "execution_count": 315,
   "metadata": {},
   "outputs": [],
   "source": [
    "def preprocessData(user_movie_rating, factor=0.5):\n",
    "    size = user_movie_rating.shape[0]\n",
    "    partition_index = int(size*factor)\n",
    "    subset = user_movie_rating.iloc[:partition_index, :]\n",
    "    subset = subset.dropna()\n",
    "    subset = subset.drop('timestamp', axis=1)\n",
    "    return subset"
   ]
  },
  {
   "cell_type": "code",
   "execution_count": null,
   "metadata": {},
   "outputs": [],
   "source": [
    "def train_test_split(characteristic_matrix):\n",
    "    test = np.zeros(characteristic_matrix.shape)\n",
    "    train = characteristic_matrix.copy()\n",
    "    for user in xrange(characteristic_matrix.shape[0]):\n",
    "        test_indexes = np.random.choice(characteristic_matrix[user, :].nonzero()[0], size=10, replace=False)\n",
    "        train[user, test_indexes] = 0.0\n",
    "        test[user, test_indexes] = characteristic_matrix[user, test_indexes]\n",
    "        \n",
    "    assert(np.all((train * test) == 0)) \n",
    "    return train, test"
   ]
  },
  {
   "cell_type": "code",
   "execution_count": 157,
   "metadata": {},
   "outputs": [],
   "source": [
    "def getCharateristicMatrix(user_movie_rating):\n",
    "    characteristic_df = user_movie_rating.pivot('userId', 'movieId', values='rating')\n",
    "    characteristic_df = characteristic_df.fillna(0)\n",
    "    characteristic_matrix = characteristic_df.as_matrix()\n",
    "    characteristic_df.index.name = None\n",
    "    \n",
    "    movie_mapping_df = pd.DataFrame({'matrix_index': range(characteristic_df.shape[1]), 'movie_id': characteristic_df.columns})\n",
    "    movie_mapping = dict(zip(movie_mapping_df.matrix_index, movie_mapping_df.movie_id))\n",
    "    r_movie_mapping = dict(zip(movie_mapping_df.movie_id, movie_mapping_df.matrix_index))\n",
    "    \n",
    "    user_mapping_df = pd.DataFrame({'matrix_index': range(characteristic_df.shape[0]), 'user_id': characteristic_df.index.tolist()})\n",
    "    user_mapping = dict(zip(user_mapping_df.matrix_index, user_mapping_df.user_id))\n",
    "    r_user_mapping = dict(zip(user_mapping_df.user_id, user_mapping_df.matrix_index))\n",
    "    mappings = {\n",
    "        'user_mapping': user_mapping,\n",
    "        'movie_mapping': movie_mapping,\n",
    "        'r_user_mapping': r_user_mapping,\n",
    "        'r_movie_mapping': r_movie_mapping\n",
    "    }\n",
    "    return characteristic_matrix, mappings\n",
    "\n"
   ]
  },
  {
   "cell_type": "code",
   "execution_count": 181,
   "metadata": {},
   "outputs": [],
   "source": [
    "def getUserIdsFromMatrixIndexes(matrix_indexes, user_mapping, preserve_order=True):\n",
    "    user_ids = []\n",
    "    for index in matrix_indexes:\n",
    "        user_ids.append(user_mapping[index])\n",
    "    return user_ids\n",
    "\n",
    "def getMovieIdsFromMatrixIndexes(matrix_indexes, movie_mapping, preserve_order=True):\n",
    "    movie_ids = []\n",
    "    for index in matrix_indexes:\n",
    "        movie_ids.append(movie_mapping[index])\n",
    "    return movie_ids"
   ]
  },
  {
   "cell_type": "code",
   "execution_count": 148,
   "metadata": {},
   "outputs": [],
   "source": [
    "def getWatchedMovies(user_id, user_movie_rating_df):\n",
    "    rated_movies = user_movie_rating_df[user_movie_rating_df['userId'] == user_id]['movieId'].values.tolist()\n",
    "    return rated_movies"
   ]
  },
  {
   "cell_type": "code",
   "execution_count": 287,
   "metadata": {},
   "outputs": [],
   "source": [
    "def filterWatchedMovies(user_id, ordered_movie_ids, user_movie_rating_df):\n",
    "    all_movies = set(ordered_movie_ids)\n",
    "    rated_movies = set(getWatchedMovies(user_id, user_movie_rating_df))\n",
    "    print \"Watched : \", len(rated_movies)\n",
    "    not_watched = all_movies - rated_movies\n",
    "    ordered_not_watched = [movie_id for movie_id in ordered_movie_ids if movie_id not in rated_movies]\n",
    "    return ordered_not_watched\n",
    "    "
   ]
  },
  {
   "cell_type": "code",
   "execution_count": 208,
   "metadata": {},
   "outputs": [],
   "source": [
    "def displayMovies(movie_ids, movies_df):\n",
    "    for movie_id in movie_ids:\n",
    "        print movies_df[movies_df['movieId'] == movie_id].values.tolist()[0]"
   ]
  },
  {
   "cell_type": "code",
   "execution_count": 313,
   "metadata": {},
   "outputs": [],
   "source": [
    "def main():\n",
    "    movies, all_ratings = loadDatasets()\n",
    "    ratings = preprocessData(all_ratings, factor=0.001)\n",
    "    characteristic_matrix, mappings = getCharateristicMatrix(ratings)\n",
    "    train_matrix, test_matrix = train_test_split(characteristic_matrix)\n",
    "    \n",
    "    als = AlternatingLeastSquare(train_matrix, latent_feature_count=40, users_reg=0.1, movies_reg=0.1)\n",
    "    als.train(iters=95)\n",
    "    \n",
    "    movie_ids = recommendMoviesTo(31, als, mappings, limit=300)\n",
    "    print len(movie_ids)\n",
    "    \n",
    "    f_movie_ids = filterWatchedMovies(31, movie_ids, ratings)\n",
    "    print len(f_movie_ids)\n",
    "    \n",
    "    displayMovies(f_movie_ids_anime, movies)"
   ]
  },
  {
   "cell_type": "code",
   "execution_count": 314,
   "metadata": {},
   "outputs": [
    {
     "name": "stdout",
     "output_type": "stream",
     "text": [
      "20000263\n",
      "20000\n",
      "(20000, 4)\n",
      "300\n",
      "Watched :  246\n",
      "65\n",
      "[1175, 'Delicatessen (1991)', 'Comedy|Drama|Romance']\n",
      "[1909, 'X-Files: Fight the Future, The (1998)', 'Action|Crime|Mystery|Sci-Fi|Thriller']\n",
      "[1282, 'Fantasia (1940)', 'Animation|Children|Fantasy|Musical']\n",
      "[92259, 'Intouchables (2011)', 'Comedy|Drama']\n",
      "[497, 'Much Ado About Nothing (1993)', 'Comedy|Romance']\n",
      "[300, 'Quiz Show (1994)', 'Drama']\n",
      "[508, 'Philadelphia (1993)', 'Drama']\n",
      "[596, 'Pinocchio (1940)', 'Animation|Children|Fantasy|Musical']\n",
      "[1245, \"Miller's Crossing (1990)\", 'Crime|Drama|Film-Noir|Thriller']\n",
      "[2085, '101 Dalmatians (One Hundred and One Dalmatians) (1961)', 'Adventure|Animation|Children']\n",
      "[1095, 'Glengarry Glen Ross (1992)', 'Drama']\n",
      "[2788, \"Monty Python's And Now for Something Completely Different (1971)\", 'Comedy']\n",
      "[4701, 'Rush Hour 2 (2001)', 'Action|Comedy']\n",
      "[161, 'Crimson Tide (1995)', 'Drama|Thriller|War']\n",
      "[266, 'Legends of the Fall (1994)', 'Drama|Romance|War|Western']\n",
      "[1293, 'Gandhi (1982)', 'Drama']\n",
      "[1086, 'Dial M for Murder (1954)', 'Crime|Mystery|Thriller']\n",
      "[3175, 'Galaxy Quest (1999)', 'Adventure|Comedy|Sci-Fi']\n",
      "[1080, \"Monty Python's Life of Brian (1979)\", 'Comedy']\n",
      "[4679, 'Uncle Buck (1989)', 'Comedy']\n",
      "[832, 'Ransom (1996)', 'Crime|Thriller']\n",
      "[51086, 'Number 23, The (2007)', 'Drama|Mystery|Thriller']\n",
      "[5970, 'My Girl (1991)', 'Comedy|Drama|Romance']\n",
      "[86377, 'Louis C.K.: Shameless (2007)', 'Comedy']\n",
      "[92535, 'Louis C.K.: Live at the Beacon Theater (2011)', 'Comedy']\n",
      "[86347, 'Louis C.K.: Chewed Up (2008)', 'Comedy']\n",
      "[3387, \"Who's Harry Crumb? (1989)\", 'Comedy|Mystery']\n",
      "[899, \"Singin' in the Rain (1952)\", 'Comedy|Musical|Romance']\n",
      "[1225, 'Amadeus (1984)', 'Drama']\n",
      "[950, 'Thin Man, The (1934)', 'Comedy|Crime']\n",
      "[2248, 'Say Anything... (1989)', 'Comedy|Drama|Romance']\n",
      "[2167, 'Blade (1998)', 'Action|Horror|Thriller']\n",
      "[52281, 'Grindhouse (2007)', 'Action|Crime|Horror|Sci-Fi|Thriller']\n",
      "[1962, 'Driving Miss Daisy (1989)', 'Drama']\n",
      "[2025, 'Lolita (1997)', 'Drama|Romance']\n",
      "[1729, 'Jackie Brown (1997)', 'Crime|Drama|Thriller']\n",
      "[945, 'Top Hat (1935)', 'Comedy|Musical|Romance']\n",
      "[5065, 'Mothman Prophecies, The (2002)', 'Drama|Fantasy|Horror|Mystery|Thriller']\n",
      "[589, 'Terminator 2: Judgment Day (1991)', 'Action|Sci-Fi']\n",
      "[1280, 'Raise the Red Lantern (Da hong deng long gao gao gua) (1991)', 'Drama']\n",
      "[2087, 'Peter Pan (1953)', 'Animation|Children|Fantasy|Musical']\n",
      "[30810, 'Life Aquatic with Steve Zissou, The (2004)', 'Adventure|Comedy|Fantasy']\n",
      "[4406, 'Man Who Shot Liberty Valance, The (1962)', 'Crime|Drama|Western']\n",
      "[1022, 'Cinderella (1950)', 'Animation|Children|Fantasy|Musical|Romance']\n",
      "[7323, 'Good bye, Lenin! (2003)', 'Comedy|Drama']\n",
      "[3363, 'American Graffiti (1973)', 'Comedy|Drama']\n",
      "[1673, 'Boogie Nights (1997)', 'Drama']\n",
      "[27815, 'Chorus, The (Choristes, Les) (2004)', 'Drama']\n",
      "[3671, 'Blazing Saddles (1974)', 'Comedy|Western']\n",
      "[628, 'Primal Fear (1996)', 'Crime|Drama|Mystery|Thriller']\n",
      "[1350, 'Omen, The (1976)', 'Horror|Mystery|Thriller']\n",
      "[3527, 'Predator (1987)', 'Action|Sci-Fi|Thriller']\n",
      "[1994, 'Poltergeist (1982)', 'Horror|Thriller']\n",
      "[2288, 'Thing, The (1982)', 'Action|Horror|Sci-Fi|Thriller']\n",
      "[2144, 'Sixteen Candles (1984)', 'Comedy|Romance']\n",
      "[56775, 'National Treasure: Book of Secrets (2007)', 'Action|Adventure']\n",
      "[88744, 'Rise of the Planet of the Apes (2011)', 'Action|Drama|Sci-Fi|Thriller']\n",
      "[1639, 'Chasing Amy (1997)', 'Comedy|Drama|Romance']\n",
      "[215, 'Before Sunrise (1995)', 'Drama|Romance']\n",
      "[68157, 'Inglourious Basterds (2009)', 'Action|Drama|War']\n",
      "[1320, 'Alien\\xc2\\xb3 (a.k.a. Alien 3) (1992)', 'Action|Horror|Sci-Fi|Thriller']\n",
      "[114180, 'Maze Runner, The (2014)', 'Action|Mystery|Sci-Fi']\n",
      "[113453, \"Let's Be Cops (2014)\", 'Comedy|Crime']\n",
      "[84152, 'Limitless (2011)', 'Sci-Fi|Thriller']\n",
      "[1283, 'High Noon (1952)', 'Drama|Western']\n",
      "[2014, 'Freaky Friday (1977)', 'Children|Comedy|Fantasy']\n",
      "[1722, 'Tomorrow Never Dies (1997)', 'Action|Adventure|Thriller']\n",
      "[1485, 'Liar Liar (1997)', 'Comedy']\n",
      "[4718, 'American Pie 2 (2001)', 'Comedy']\n",
      "[342, \"Muriel's Wedding (1994)\", 'Comedy']\n",
      "[2268, 'Few Good Men, A (1992)', 'Crime|Drama|Thriller']\n",
      "[1220, 'Blues Brothers, The (1980)', 'Action|Comedy|Musical']\n",
      "[7099, 'Nausica\\xc3\\xa4 of the Valley of the Wind (Kaze no tani no Naushika) (1984)', 'Adventure|Animation|Drama|Fantasy|Sci-Fi']\n",
      "[1411, 'Hamlet (1996)', 'Crime|Drama|Romance']\n",
      "[1645, \"Devil's Advocate, The (1997)\", 'Drama|Mystery|Thriller']\n",
      "[454, 'Firm, The (1993)', 'Drama|Thriller']\n",
      "[7669, 'Pride and Prejudice (1995)', 'Drama|Romance']\n",
      "[7215, 'To Have and Have Not (1944)', 'Adventure|Drama|Romance|Thriller|War']\n",
      "[6331, 'Spellbound (2002)', 'Documentary']\n",
      "[1032, 'Alice in Wonderland (1951)', 'Adventure|Animation|Children|Fantasy|Musical']\n",
      "[1537, 'Shall We Dance? (Shall We Dansu?) (1996)', 'Comedy|Drama|Romance']\n",
      "[17, 'Sense and Sensibility (1995)', 'Drama|Romance']\n",
      "[2600, 'eXistenZ (1999)', 'Action|Sci-Fi|Thriller']\n",
      "[3503, 'Solaris (Solyaris) (1972)', 'Drama|Mystery|Sci-Fi']\n",
      "[2699, 'Arachnophobia (1990)', 'Comedy|Horror']\n",
      "[2116, 'Lord of the Rings, The (1978)', 'Adventure|Animation|Children|Fantasy']\n",
      "[6535, 'Legally Blonde 2: Red, White & Blonde (2003)', 'Comedy']\n",
      "[3504, 'Network (1976)', 'Comedy|Drama']\n",
      "[2917, 'Body Heat (1981)', 'Crime|Thriller']\n",
      "[3097, 'Shop Around the Corner, The (1940)', 'Comedy|Drama|Romance']\n",
      "[3252, 'Scent of a Woman (1992)', 'Drama']\n",
      "[1674, 'Witness (1985)', 'Drama|Romance|Thriller']\n",
      "[62081, 'Eagle Eye (2008)', 'Action|Crime|Thriller|IMAX']\n",
      "[916, 'Roman Holiday (1953)', 'Comedy|Drama|Romance']\n",
      "[1721, 'Titanic (1997)', 'Drama|Romance']\n",
      "[1094, 'Crying Game, The (1992)', 'Drama|Romance|Thriller']\n",
      "[1281, 'Great Dictator, The (1940)', 'Comedy|Drama|War']\n",
      "[6787, \"All the President's Men (1976)\", 'Drama|Thriller']\n",
      "[5349, 'Spider-Man (2002)', 'Action|Adventure|Sci-Fi|Thriller']\n",
      "[1805, 'Wild Things (1998)', 'Crime|Drama|Mystery|Thriller']\n",
      "[26614, 'Bourne Identity, The (1988)', 'Action|Adventure|Drama|Mystery|Thriller']\n",
      "[3928, 'Abbott and Costello Meet Frankenstein (1948)', 'Comedy|Horror']\n",
      "[2160, \"Rosemary's Baby (1968)\", 'Drama|Horror|Thriller']\n",
      "[1207, 'To Kill a Mockingbird (1962)', 'Drama']\n",
      "[3752, 'Me, Myself & Irene (2000)', 'Adventure|Comedy']\n",
      "[3148, 'Cider House Rules, The (1999)', 'Drama']\n",
      "[8638, 'Before Sunset (2004)', 'Drama|Romance']\n",
      "[349, 'Clear and Present Danger (1994)', 'Action|Crime|Drama|Thriller']\n",
      "[2622, \"William Shakespeare's A Midsummer Night's Dream (1999)\", 'Comedy|Fantasy']\n",
      "[1678, 'Joy Luck Club, The (1993)', 'Drama|Romance']\n",
      "[8604, 'Taxi (1998)', 'Action|Comedy']\n",
      "[27839, 'Ring Two, The (2005)', 'Drama|Horror|Mystery|Thriller']\n",
      "[933, 'To Catch a Thief (1955)', 'Crime|Mystery|Romance|Thriller']\n",
      "[3052, 'Dogma (1999)', 'Adventure|Comedy|Fantasy']\n",
      "[5291, 'Rashomon (Rash\\xc3\\xb4mon) (1950)', 'Crime|Drama|Mystery']\n",
      "[535, 'Short Cuts (1993)', 'Drama']\n",
      "[4975, 'Vanilla Sky (2001)', 'Mystery|Romance|Sci-Fi|Thriller']\n",
      "[315, 'Specialist, The (1994)', 'Action|Drama|Thriller']\n",
      "[48738, 'Last King of Scotland, The (2006)', 'Drama|Thriller']\n",
      "[1272, 'Patton (1970)', 'Drama|War']\n",
      "[3159, 'Fantasia 2000 (1999)', 'Animation|Children|Musical|IMAX']\n",
      "[10, 'GoldenEye (1995)', 'Action|Adventure|Thriller']\n",
      "[8970, 'Finding Neverland (2004)', 'Drama']\n",
      "[344, 'Ace Ventura: Pet Detective (1994)', 'Comedy']\n",
      "[1371, 'Star Trek: The Motion Picture (1979)', 'Adventure|Sci-Fi']\n",
      "[6870, 'Mystic River (2003)', 'Crime|Drama|Mystery']\n",
      "[3039, 'Trading Places (1983)', 'Comedy']\n",
      "[6383, '2 Fast 2 Furious (Fast and the Furious 2, The) (2003)', 'Action|Crime|Thriller']\n",
      "[410, 'Addams Family Values (1993)', 'Children|Comedy|Fantasy']\n",
      "[150, 'Apollo 13 (1995)', 'Adventure|Drama|IMAX']\n",
      "[44, 'Mortal Kombat (1995)', 'Action|Adventure|Fantasy']\n",
      "[53550, 'Rescue Dawn (2006)', 'Action|Adventure|Drama|War']\n",
      "[36276, 'Hidden (a.k.a. Cache) (Cach\\xc3\\xa9) (2005)', 'Drama|Mystery|Thriller']\n",
      "[1249, 'Femme Nikita, La (Nikita) (1990)', 'Action|Crime|Romance|Thriller']\n",
      "[724, 'Craft, The (1996)', 'Drama|Fantasy|Horror|Thriller']\n",
      "[2947, 'Goldfinger (1964)', 'Action|Adventure|Thriller']\n",
      "[4370, 'A.I. Artificial Intelligence (2001)', 'Adventure|Drama|Sci-Fi']\n",
      "[81018, \"Illusionist, The (L'illusionniste) (2010)\", 'Animation']\n",
      "[81845, \"King's Speech, The (2010)\", 'Drama']\n",
      "[786, 'Eraser (1996)', 'Action|Drama|Thriller']\n",
      "[45, 'To Die For (1995)', 'Comedy|Drama|Thriller']\n",
      "[6323, 'Identity (2003)', 'Crime|Horror|Mystery|Thriller']\n",
      "[2420, 'Karate Kid, The (1984)', 'Drama']\n",
      "[6188, 'Old School (2003)', 'Comedy']\n",
      "[265, 'Like Water for Chocolate (Como agua para chocolate) (1992)', 'Drama|Fantasy|Romance']\n",
      "[2340, 'Meet Joe Black (1998)', 'Romance']\n",
      "[1183, 'English Patient, The (1996)', 'Drama|Romance|War']\n",
      "[1242, 'Glory (1989)', 'Drama|War']\n",
      "[8957, 'Saw (2004)', 'Horror|Mystery|Thriller']\n",
      "[1300, 'My Life as a Dog (Mitt liv som hund) (1985)', 'Comedy|Drama']\n",
      "[1299, 'Killing Fields, The (1984)', 'Drama|War']\n",
      "[597, 'Pretty Woman (1990)', 'Comedy|Romance']\n",
      "[4023, 'Family Man, The (2000)', 'Comedy|Drama|Romance']\n",
      "[3623, 'Mission: Impossible II (2000)', 'Action|Adventure|Thriller']\n",
      "[610, 'Heavy Metal (1981)', 'Action|Adventure|Animation|Horror|Sci-Fi']\n",
      "[3556, 'Virgin Suicides, The (1999)', 'Drama|Romance']\n"
     ]
    }
   ],
   "source": [
    "main()"
   ]
  },
  {
   "cell_type": "code",
   "execution_count": null,
   "metadata": {},
   "outputs": [],
   "source": [
    "from IPython.display import HTML\n",
    "from IPython.display import display\n",
    "\n",
    "def display_top_k_movies(similarity, mapper, movie_idx, base_url, api_key, k=5):\n",
    "    movie_indices = np.argsort(similarity[movie_idx,:])[::-1]\n",
    "    images = ''\n",
    "    k_ctr = 0\n",
    "    # Start i at 1 to not grab the input movie\n",
    "    i = 1\n",
    "    while k_ctr < 5:\n",
    "        movie = mapper[movie_indices[i]]\n",
    "        poster = get_poster(movie, base_url, api_key)\n",
    "        if poster != '':\n",
    "            images += \"<img style='width: 120px; margin: 0px; \\\n",
    "                      float: left; border: 1px solid black;' src='%s' />\"\\\n",
    "                      % poster\n",
    "            k_ctr += 1\n",
    "        i += 1\n",
    "    display(HTML(images))\n",
    "\n",
    "def compare_recs(als_similarity, sgd_similarity, mapper,\\\n",
    "                 movie_idx, base_url, api_key, k=5):\n",
    "    # Display input\n",
    "    display(HTML('<font size=5>'+'Input'+'</font>'))\n",
    "    input_poster = get_poster(mapper[movie_idx], base_url, api_key)\n",
    "    input_image = \"<img style='width: 120px; margin: 0px; \\\n",
    "                      float: left; border: 1px solid black;' src='%s' />\" \\\n",
    "                  % input_poster\n",
    "    display(HTML(input_image))\n",
    "    # Display ALS Recs\n",
    "    display(HTML('<font size=5>'+'ALS Recs'+'</font>'))\n",
    "    display_top_k_movies(als_similarity, idx_to_movie,\\\n",
    "                         movie_idx, base_url, api_key)\n",
    "    # Display SGD Recs\n",
    "    display(HTML('<font size=5>'+'SGD Recs'+'</font>'))\n",
    "    display_top_k_movies(sgd_similarity, idx_to_movie,\\\n",
    "                         movie_idx, base_url, api_key)"
   ]
  },
  {
   "cell_type": "code",
   "execution_count": null,
   "metadata": {},
   "outputs": [],
   "source": []
  },
  {
   "cell_type": "code",
   "execution_count": 19,
   "metadata": {},
   "outputs": [],
   "source": [
    "%matplotlib inline\n",
    "import matplotlib.pyplot as plt\n",
    "import seaborn as sns\n",
    "sns.set()\n",
    "\n",
    "def plot_learning_curve(iter_array, error, label):\n",
    "    plt.plot(iter_array, error, label=label, linewidth=5)\n",
    "    plt.xticks(fontsize=16);\n",
    "    plt.yticks(fontsize=16);\n",
    "    plt.xlabel('iterations', fontsize=30);\n",
    "    plt.ylabel('MSE', fontsize=30);\n",
    "    plt.legend(loc='best', fontsize=20);\n",
    "    plt.plot()"
   ]
  },
  {
   "cell_type": "code",
   "execution_count": 20,
   "metadata": {},
   "outputs": [
    {
     "data": {
      "image/png": "[encoded data removed]",
      "text/plain": [
       "<matplotlib.figure.Figure at 0x1065f62d0>"
      ]
     },
     "metadata": {
      "needs_background": "light"
     },
     "output_type": "display_data"
    }
   ],
   "source": [
    "plot_learning_curve(iters_list, train_error, 'Training')"
   ]
  },
  {
   "cell_type": "code",
   "execution_count": 21,
   "metadata": {},
   "outputs": [
    {
     "data": {
      "image/png": "[encoded data removed]",
      "text/plain": [
       "<matplotlib.figure.Figure at 0x10e3e9790>"
      ]
     },
     "metadata": {
      "needs_background": "light"
     },
     "output_type": "display_data"
    }
   ],
   "source": [
    "plot_learning_curve(iters_list, test_error, 'Testing')"
   ]
  },
  {
   "cell_type": "code",
   "execution_count": 27,
   "metadata": {},
   "outputs": [
    {
     "name": "stdout",
     "output_type": "stream",
     "text": [
      "Factors: 5\n",
      "Regularization: 0.01\n",
      "New optimal hyperparameters\n",
      "model        <__main__.AlternatingLeastSquare object at 0x1...\n",
      "n_factors                                                    5\n",
      "n_iter                                                      95\n",
      "reg                                                       0.01\n",
      "test_mse                                               10.6545\n",
      "train_mse                                              7.70133\n",
      "dtype: object\n",
      "Regularization: 0.1\n",
      "New optimal hyperparameters\n",
      "model        <__main__.AlternatingLeastSquare object at 0x1...\n",
      "n_factors                                                    5\n",
      "n_iter                                                      95\n",
      "reg                                                        0.1\n",
      "test_mse                                               10.6544\n",
      "train_mse                                              7.70123\n",
      "dtype: object\n",
      "Regularization: 1.0\n",
      "New optimal hyperparameters\n",
      "model        <__main__.AlternatingLeastSquare object at 0x1...\n",
      "n_factors                                                    5\n",
      "n_iter                                                      95\n",
      "reg                                                          1\n",
      "test_mse                                               10.6544\n",
      "train_mse                                              7.70124\n",
      "dtype: object\n",
      "Regularization: 10.0\n",
      "Regularization: 100.0\n",
      "Factors: 10\n",
      "Regularization: 0.01\n",
      "New optimal hyperparameters\n",
      "model        <__main__.AlternatingLeastSquare object at 0x1...\n",
      "n_factors                                                   10\n",
      "n_iter                                                      95\n",
      "reg                                                       0.01\n",
      "test_mse                                               10.3195\n",
      "train_mse                                              6.83601\n",
      "dtype: object\n",
      "Regularization: 0.1\n",
      "Regularization: 1.0\n",
      "Regularization: 10.0\n",
      "Regularization: 100.0\n",
      "Factors: 20\n",
      "Regularization: 0.01\n",
      "New optimal hyperparameters\n",
      "model        <__main__.AlternatingLeastSquare object at 0x1...\n",
      "n_factors                                                   20\n",
      "n_iter                                                      95\n",
      "reg                                                       0.01\n",
      "test_mse                                               10.1057\n",
      "train_mse                                              5.89418\n",
      "dtype: object\n",
      "Regularization: 0.1\n",
      "New optimal hyperparameters\n",
      "model        <__main__.AlternatingLeastSquare object at 0x1...\n",
      "n_factors                                                   20\n",
      "n_iter                                                      95\n",
      "reg                                                        0.1\n",
      "test_mse                                                10.102\n",
      "train_mse                                              5.89124\n",
      "dtype: object\n",
      "Regularization: 1.0\n",
      "Regularization: 10.0\n",
      "Regularization: 100.0\n",
      "Factors: 40\n",
      "Regularization: 0.01\n",
      "New optimal hyperparameters\n",
      "model        <__main__.AlternatingLeastSquare object at 0x1...\n",
      "n_factors                                                   40\n",
      "n_iter                                                      95\n",
      "reg                                                       0.01\n",
      "test_mse                                               10.0379\n",
      "train_mse                                              4.72537\n",
      "dtype: object\n",
      "Regularization: 0.1\n",
      "New optimal hyperparameters\n",
      "model        <__main__.AlternatingLeastSquare object at 0x1...\n",
      "n_factors                                                   40\n",
      "n_iter                                                      95\n",
      "reg                                                        0.1\n",
      "test_mse                                               10.0342\n",
      "train_mse                                              4.72275\n",
      "dtype: object\n",
      "Regularization: 1.0\n",
      "Regularization: 10.0\n",
      "Regularization: 100.0\n",
      "Factors: 80\n",
      "Regularization: 0.01\n",
      "Regularization: 0.1\n",
      "Regularization: 1.0\n",
      "Regularization: 10.0\n",
      "Regularization: 100.0\n"
     ]
    }
   ],
   "source": [
    "latent_factors = [5, 10, 20, 40, 80]\n",
    "regularizations = [0.01, 0.1, 1., 10., 100.]\n",
    "regularizations.sort()\n",
    "iter_array = list(range(5, 100, 5))\n",
    "\n",
    "best_params = {}\n",
    "best_params['n_factors'] = latent_factors[0]\n",
    "best_params['reg'] = regularizations[0]\n",
    "best_params['n_iter'] = 0\n",
    "best_params['train_mse'] = np.inf\n",
    "best_params['test_mse'] = np.inf\n",
    "best_params['model'] = None\n",
    "\n",
    "for fact in latent_factors:\n",
    "    print 'Factors: {}'.format(fact)\n",
    "    for reg in regularizations:\n",
    "        print 'Regularization: {}'.format(reg)\n",
    "        als = AlternatingLeastSquare(train, latent_feature_count=fact, users_reg=0.3, movies_reg=0.3)\n",
    "        train_mse, test_mse = als.get_train_test_error(test, iter_array)\n",
    "        min_idx = np.argmin(test_mse)\n",
    "        if test_mse[min_idx] < best_params['test_mse']:\n",
    "            best_params['n_factors'] = fact\n",
    "            best_params['reg'] = reg\n",
    "            best_params['n_iter'] = iter_array[min_idx]\n",
    "            best_params['train_mse'] = train_mse[min_idx]\n",
    "            best_params['test_mse'] = test_mse[min_idx]\n",
    "            best_params['model'] = als\n",
    "            print 'New optimal hyperparameters'\n",
    "            print pd.Series(best_params)"
   ]
  },
  {
   "cell_type": "code",
   "execution_count": null,
   "metadata": {},
   "outputs": [],
   "source": []
  },
  {
   "cell_type": "code",
   "execution_count": 233,
   "metadata": {},
   "outputs": [],
   "source": [
    "# m = movies[movies['genres'].str.contains('Animation')]['movieId'].values.tolist()"
   ]
  },
  {
   "cell_type": "code",
   "execution_count": null,
   "metadata": {},
   "outputs": [],
   "source": []
  },
  {
   "cell_type": "code",
   "execution_count": 346,
   "metadata": {},
   "outputs": [],
   "source": [
    "def fetchImageUrl(movie_id):\n",
    "    url = \"https://www.imdb.com/title/tt%d/\"%(movie_id)\n",
    "    resp = requests.get(url)\n",
    "    if resp.status_code >= 400:\n",
    "        return ''\n",
    "    img_url = ''\n",
    "    try:\n",
    "        bs = BeautifulSoup(resp.text)\n",
    "        poster_div = bs.findAll(\"div\", {\"class\": \"poster\"})[0]\n",
    "        poster_img = poster_div.findAll('img')[0]\n",
    "        img_url = poster_img['src']\n",
    "    except:\n",
    "        pass\n",
    "    return img_url"
   ]
  },
  {
   "cell_type": "code",
   "execution_count": 347,
   "metadata": {},
   "outputs": [
    {
     "data": {
      "text/plain": [
       "'https://m.media-amazon.com/images/M/MV5BMWU4ZjNlNTQtOGE2MS00NDI0LWFlYjMtMmY3ZWVkMjJkNGRmXkEyXkFqcGdeQXVyNjE1OTQ0NjA@._V1_UY268_CR2,0,182,268_AL_.jpg'"
      ]
     },
     "execution_count": 347,
     "metadata": {},
     "output_type": "execute_result"
    }
   ],
   "source": [
    "fetchImageUrl(8291224)"
   ]
  },
  {
   "cell_type": "code",
   "execution_count": null,
   "metadata": {},
   "outputs": [],
   "source": []
  },
  {
   "cell_type": "code",
   "execution_count": null,
   "metadata": {},
   "outputs": [],
   "source": []
  },
  {
   "cell_type": "code",
   "execution_count": null,
   "metadata": {},
   "outputs": [],
   "source": []
  },
  {
   "cell_type": "code",
   "execution_count": 344,
   "metadata": {},
   "outputs": [
    {
     "data": {
      "text/html": [
       "<img alt=\"Different Reactions Poster\" src=\"https://m.media-amazon.com/images/M/MV5BZjg5NTUwMzktNjc2NC00ZDRiLTk3NGUtN2RlY2ViNWM4ZTM3XkEyXkFqcGdeQXVyNjczNjAxMTY@._V1_UX182_CR0,0,182,268_AL_.jpg\" title=\"Different Reactions Poster\"/>"
      ],
      "text/plain": [
       "<IPython.core.display.HTML object>"
      ]
     },
     "metadata": {},
     "output_type": "display_data"
    }
   ],
   "source": [
    "display(HTML(img))"
   ]
  },
  {
   "cell_type": "code",
   "execution_count": null,
   "metadata": {},
   "outputs": [],
   "source": [
    "# https://www.imdb.com/title/tt8191224/?ref_=nv_sr_1"
   ]
  },
  {
   "cell_type": "code",
   "execution_count": 54,
   "metadata": {},
   "outputs": [
    {
     "name": "stdout",
     "output_type": "stream",
     "text": [
      "['titleId', 'ordering', 'title', 'region', 'language', 'types', 'attributes', 'isOriginalTitle\\n']\n",
      "['tt0000001', '1', 'Carmencita - spanyol t\\xc3\\xa1nc', 'HU', '\\\\N', 'imdbDisplay', '\\\\N', '0\\n']\n",
      "['tt0000001', '2', '\\xce\\x9a\\xce\\xb1\\xcf\\x81\\xce\\xbc\\xce\\xb5\\xce\\xbd\\xcf\\x83\\xce\\xaf\\xcf\\x84\\xce\\xb1', 'GR', '\\\\N', '\\\\N', '\\\\N', '0\\n']\n",
      "['tt0000001', '3', '\\xd0\\x9a\\xd0\\xb0\\xd1\\x80\\xd0\\xbc\\xd0\\xb5\\xd0\\xbd\\xd1\\x81\\xd0\\xb8\\xd1\\x82\\xd0\\xb0', 'RU', '\\\\N', '\\\\N', '\\\\N', '0\\n']\n",
      "['tt0000001', '4', 'Carmencita', 'US', '\\\\N', '\\\\N', '\\\\N', '0\\n']\n"
     ]
    }
   ],
   "source": [
    "lines = []\n",
    "count = 0\n",
    "with open('../data/title.akas.tsv') as infile:\n",
    "    for line in infile:\n",
    "        line = line.split('\\t')\n",
    "        print line\n",
    "        if count > 3:\n",
    "            break\n",
    "#         if line[3] == 'US' and int(line[0][2:]) > 230314:\n",
    "#             record_to_insert = (line[0], line[2][:200], line[3])\n",
    "#             insert(record_to_insert)\n",
    "        count += 1\n",
    "        if count % 1000 == 0:\n",
    "            pass\n",
    "#             conn.commit()"
   ]
  },
  {
   "cell_type": "code",
   "execution_count": null,
   "metadata": {},
   "outputs": [],
   "source": [
    "print \"DONE\""
   ]
  },
  {
   "cell_type": "code",
   "execution_count": 52,
   "metadata": {},
   "outputs": [],
   "source": [
    "conn.commit()"
   ]
  },
  {
   "cell_type": "code",
   "execution_count": 28,
   "metadata": {},
   "outputs": [],
   "source": [
    "lines = map(lambda x: x.split('\\t'),lines)"
   ]
  },
  {
   "cell_type": "code",
   "execution_count": null,
   "metadata": {},
   "outputs": [],
   "source": []
  },
  {
   "cell_type": "code",
   "execution_count": 46,
   "metadata": {},
   "outputs": [],
   "source": [
    "def insert(record_to_insert):\n",
    "    postgres_insert_query = \"\"\" INSERT INTO movies (imdb_id, name, language) VALUES (%s,%s,%s)\"\"\"\n",
    "    cur.execute(postgres_insert_query, record_to_insert)"
   ]
  },
  {
   "cell_type": "code",
   "execution_count": 38,
   "metadata": {},
   "outputs": [],
   "source": []
  },
  {
   "cell_type": "code",
   "execution_count": null,
   "metadata": {},
   "outputs": [],
   "source": []
  },
  {
   "cell_type": "code",
   "execution_count": 11,
   "metadata": {},
   "outputs": [
    {
     "name": "stderr",
     "output_type": "stream",
     "text": [
      "/usr/local/lib/python2.7/site-packages/psycopg2/__init__.py:144: UserWarning: The psycopg2 wheel package will be renamed from release 2.8; in order to keep installing from binary please use \"pip install psycopg2-binary\" instead. For details see: <http://initd.org/psycopg/docs/install.html#binary-install-from-pypi>.\n",
      "  \"\"\")\n"
     ]
    }
   ],
   "source": [
    "import psycopg2"
   ]
  },
  {
   "cell_type": "code",
   "execution_count": 44,
   "metadata": {},
   "outputs": [],
   "source": [
    "conn = psycopg2.connect(\"dbname='movie_recommender' user='postgres' host='localhost' port=5432 password=''\")"
   ]
  },
  {
   "cell_type": "code",
   "execution_count": 45,
   "metadata": {},
   "outputs": [],
   "source": [
    "cur = conn.cursor()"
   ]
  },
  {
   "cell_type": "code",
   "execution_count": 34,
   "metadata": {},
   "outputs": [],
   "source": [
    "cur.execute(\"select * from movies;\")"
   ]
  },
  {
   "cell_type": "code",
   "execution_count": 35,
   "metadata": {},
   "outputs": [],
   "source": [
    "rows = cur.fetchall()\n",
    "for row in rows:\n",
    "    print \"   \", row"
   ]
  },
  {
   "cell_type": "code",
   "execution_count": 42,
   "metadata": {},
   "outputs": [],
   "source": [
    "cur.close()"
   ]
  },
  {
   "cell_type": "code",
   "execution_count": 43,
   "metadata": {},
   "outputs": [],
   "source": [
    "conn.close()"
   ]
  },
  {
   "cell_type": "code",
   "execution_count": null,
   "metadata": {},
   "outputs": [],
   "source": []
  }
 ],
 "metadata": {
  "kernelspec": {
   "display_name": "Python 2",
   "language": "python",
   "name": "python2"
  },
  "language_info": {
   "codemirror_mode": {
    "name": "ipython",
    "version": 2
   },
   "file_extension": ".py",
   "mimetype": "text/x-python",
   "name": "python",
   "nbconvert_exporter": "python",
   "pygments_lexer": "ipython2",
   "version": "2.7.14"
  }
 },
 "nbformat": 4,
 "nbformat_minor": 2
}
