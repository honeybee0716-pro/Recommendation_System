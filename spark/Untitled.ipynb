{
 "cells": [
  {
   "cell_type": "code",
   "execution_count": 3,
   "metadata": {},
   "outputs": [],
   "source": [
    "import findspark\n",
    "findspark.init()"
   ]
  },
  {
   "cell_type": "code",
   "execution_count": 4,
   "metadata": {},
   "outputs": [],
   "source": [
    "from __future__ import print_function\n",
    "\n",
    "import sys\n",
    "\n",
    "import numpy as np\n",
    "from numpy.random import rand\n",
    "from numpy import matrix\n",
    "from pyspark.sql import SparkSession"
   ]
  },
  {
   "cell_type": "code",
   "execution_count": 5,
   "metadata": {},
   "outputs": [],
   "source": [
    "import pandas as pd"
   ]
  },
  {
   "cell_type": "code",
   "execution_count": null,
   "metadata": {},
   "outputs": [],
   "source": [
    "def loadDatasets():\n",
    "    print('Loading datasets')\n",
    "    movies = pd.read_csv('../data/movie.csv')\n",
    "    ratings = pd.read_csv('../data/rating.csv')\n",
    "    print('Datasets loaded successfully')\n",
    "    return movies, ratings"
   ]
  },
  {
   "cell_type": "code",
   "execution_count": null,
   "metadata": {},
   "outputs": [],
   "source": [
    "def preprocessData(user_movie_rating, factor=0.25):\n",
    "        size = user_movie_rating.shape[0]\n",
    "        partition_index = int(size*factor)\n",
    "        subset = user_movie_rating.iloc[:partition_index, :]\n",
    "        subset = subset.dropna()\n",
    "        subset = subset.drop('timestamp', axis=1)\n",
    "        return subset"
   ]
  },
  {
   "cell_type": "code",
   "execution_count": null,
   "metadata": {},
   "outputs": [],
   "source": [
    "def getCharateristicMatrix(user_movie_rating):\n",
    "        characteristic_df = user_movie_rating.pivot('userId', 'movieId', values='rating')\n",
    "        characteristic_df = characteristic_df.fillna(0)\n",
    "        characteristic_matrix = characteristic_df.as_matrix()\n",
    "        characteristic_df.index.name = None\n",
    "        \n",
    "        movie_mapping_df = pd.DataFrame({'matrix_index': range(characteristic_df.shape[1]), 'movie_id': characteristic_df.columns})\n",
    "        movie_mapping = dict(zip(movie_mapping_df.matrix_index, movie_mapping_df.movie_id))\n",
    "        r_movie_mapping = dict(zip(movie_mapping_df.movie_id, movie_mapping_df.matrix_index))\n",
    "        \n",
    "        user_mapping_df = pd.DataFrame({'matrix_index': range(characteristic_df.shape[0]), 'user_id': characteristic_df.index.tolist()})\n",
    "        user_mapping = dict(zip(user_mapping_df.matrix_index, user_mapping_df.user_id))\n",
    "        r_user_mapping = dict(zip(user_mapping_df.user_id, user_mapping_df.matrix_index))\n",
    "        mappings = {\n",
    "            'user_mapping': user_mapping,\n",
    "            'movie_mapping': movie_mapping,\n",
    "            'r_user_mapping': r_user_mapping,\n",
    "            'r_movie_mapping': r_movie_mapping\n",
    "        }\n",
    "        return characteristic_matrix, mappings"
   ]
  },
  {
   "cell_type": "code",
   "execution_count": null,
   "metadata": {},
   "outputs": [],
   "source": [
    "movies, ratings = loadDatasets()"
   ]
  },
  {
   "cell_type": "code",
   "execution_count": null,
   "metadata": {},
   "outputs": [],
   "source": [
    "ratings_subset = ratings.sample(frac=0.0005)"
   ]
  },
  {
   "cell_type": "code",
   "execution_count": null,
   "metadata": {},
   "outputs": [],
   "source": [
    "ratings_subset = preprocessData(ratings_subset, factor=1)"
   ]
  },
  {
   "cell_type": "code",
   "execution_count": null,
   "metadata": {},
   "outputs": [],
   "source": [
    "n_characteristic_matrix, mappings = getCharateristicMatrix(ratings_subset)\n",
    "# train_matrix, test_matrix = self.train_test_split(characteristic_matrix)"
   ]
  },
  {
   "cell_type": "code",
   "execution_count": null,
   "metadata": {},
   "outputs": [],
   "source": [
    "spark = SparkSession\\\n",
    "        .builder\\\n",
    "        .appName(\"MovieRecommender\")\\\n",
    "        .getOrCreate()\n",
    "\n",
    "\n",
    "sc = spark.sparkContext"
   ]
  },
  {
   "cell_type": "code",
   "execution_count": null,
   "metadata": {},
   "outputs": [],
   "source": [
    "sc._conf.getAll()"
   ]
  },
  {
   "cell_type": "code",
   "execution_count": null,
   "metadata": {},
   "outputs": [],
   "source": [
    "n_characteristic_matrix = np.mat(n_characteristic_matrix.T)"
   ]
  },
  {
   "cell_type": "code",
   "execution_count": null,
   "metadata": {},
   "outputs": [],
   "source": [
    "n_characteristic_matrix.shape"
   ]
  },
  {
   "cell_type": "code",
   "execution_count": null,
   "metadata": {},
   "outputs": [],
   "source": []
  },
  {
   "cell_type": "code",
   "execution_count": null,
   "metadata": {},
   "outputs": [],
   "source": []
  },
  {
   "cell_type": "code",
   "execution_count": null,
   "metadata": {},
   "outputs": [],
   "source": [
    "M = n_characteristic_matrix.shape[0]\n",
    "U = n_characteristic_matrix.shape[1]\n",
    "F = 20\n",
    "\n",
    "ITERATIONS = 5\n",
    "partitions = 2\n",
    "\n",
    "m_offset = 1500\n",
    "u_offset = 10000\n",
    "\n",
    "R = n_characteristic_matrix\n",
    "\n",
    "ms = matrix(rand(M, F))\n",
    "us = matrix(rand(U, F))\n"
   ]
  },
  {
   "cell_type": "code",
   "execution_count": null,
   "metadata": {},
   "outputs": [],
   "source": [
    "global_bias = ratings_subset['rating'].mean()\n",
    "user_bias = np.zeros(U)\n",
    "movie_bias = np.zeros(M)"
   ]
  },
  {
   "cell_type": "code",
   "execution_count": 8,
   "metadata": {},
   "outputs": [],
   "source": [
    "movies = 10\n",
    "users = 30\n",
    "F = 3"
   ]
  },
  {
   "cell_type": "code",
   "execution_count": 7,
   "metadata": {},
   "outputs": [],
   "source": [
    "R = matrix(rand(movies, users))"
   ]
  },
  {
   "cell_type": "code",
   "execution_count": 10,
   "metadata": {},
   "outputs": [],
   "source": [
    "ms = matrix(rand(movies, F))"
   ]
  },
  {
   "cell_type": "code",
   "execution_count": 11,
   "metadata": {},
   "outputs": [],
   "source": [
    "us = matrix(rand(users, F))"
   ]
  },
  {
   "cell_type": "code",
   "execution_count": 14,
   "metadata": {},
   "outputs": [],
   "source": [
    "user_bias = np.zeros(users)"
   ]
  },
  {
   "cell_type": "code",
   "execution_count": 15,
   "metadata": {},
   "outputs": [
    {
     "name": "stdout",
     "output_type": "stream",
     "text": [
      "(30,)\n"
     ]
    },
    {
     "data": {
      "text/plain": [
       "array([ 0.,  0.,  0.,  0.,  0.,  0.,  0.,  0.,  0.,  0.,  0.,  0.,  0.,\n",
       "        0.,  0.,  0.,  0.,  0.,  0.,  0.,  0.,  0.,  0.,  0.,  0.,  0.,\n",
       "        0.,  0.,  0.,  0.])"
      ]
     },
     "execution_count": 15,
     "metadata": {},
     "output_type": "execute_result"
    }
   ],
   "source": [
    "print(user_bias.shape)\n",
    "user_bias"
   ]
  },
  {
   "cell_type": "code",
   "execution_count": 12,
   "metadata": {},
   "outputs": [],
   "source": [
    "Xty = us.T * R[1, :].T"
   ]
  },
  {
   "cell_type": "code",
   "execution_count": 18,
   "metadata": {},
   "outputs": [
    {
     "data": {
      "text/plain": [
       "matrix([[ 0.84360101,  0.84360101,  0.84360101,  0.84360101,  0.84360101,\n",
       "          0.84360101,  0.84360101,  0.84360101,  0.84360101,  0.84360101,\n",
       "          0.84360101,  0.84360101,  0.84360101,  0.84360101,  0.84360101,\n",
       "          0.84360101,  0.84360101,  0.84360101,  0.84360101,  0.84360101,\n",
       "          0.84360101,  0.84360101,  0.84360101,  0.84360101,  0.84360101,\n",
       "          0.84360101,  0.84360101,  0.84360101,  0.84360101,  0.84360101],\n",
       "        [ 0.564675  ,  0.564675  ,  0.564675  ,  0.564675  ,  0.564675  ,\n",
       "          0.564675  ,  0.564675  ,  0.564675  ,  0.564675  ,  0.564675  ,\n",
       "          0.564675  ,  0.564675  ,  0.564675  ,  0.564675  ,  0.564675  ,\n",
       "          0.564675  ,  0.564675  ,  0.564675  ,  0.564675  ,  0.564675  ,\n",
       "          0.564675  ,  0.564675  ,  0.564675  ,  0.564675  ,  0.564675  ,\n",
       "          0.564675  ,  0.564675  ,  0.564675  ,  0.564675  ,  0.564675  ],\n",
       "        [ 0.29085432,  0.29085432,  0.29085432,  0.29085432,  0.29085432,\n",
       "          0.29085432,  0.29085432,  0.29085432,  0.29085432,  0.29085432,\n",
       "          0.29085432,  0.29085432,  0.29085432,  0.29085432,  0.29085432,\n",
       "          0.29085432,  0.29085432,  0.29085432,  0.29085432,  0.29085432,\n",
       "          0.29085432,  0.29085432,  0.29085432,  0.29085432,  0.29085432,\n",
       "          0.29085432,  0.29085432,  0.29085432,  0.29085432,  0.29085432],\n",
       "        [ 0.51481446,  0.51481446,  0.51481446,  0.51481446,  0.51481446,\n",
       "          0.51481446,  0.51481446,  0.51481446,  0.51481446,  0.51481446,\n",
       "          0.51481446,  0.51481446,  0.51481446,  0.51481446,  0.51481446,\n",
       "          0.51481446,  0.51481446,  0.51481446,  0.51481446,  0.51481446,\n",
       "          0.51481446,  0.51481446,  0.51481446,  0.51481446,  0.51481446,\n",
       "          0.51481446,  0.51481446,  0.51481446,  0.51481446,  0.51481446],\n",
       "        [ 0.01819719,  0.01819719,  0.01819719,  0.01819719,  0.01819719,\n",
       "          0.01819719,  0.01819719,  0.01819719,  0.01819719,  0.01819719,\n",
       "          0.01819719,  0.01819719,  0.01819719,  0.01819719,  0.01819719,\n",
       "          0.01819719,  0.01819719,  0.01819719,  0.01819719,  0.01819719,\n",
       "          0.01819719,  0.01819719,  0.01819719,  0.01819719,  0.01819719,\n",
       "          0.01819719,  0.01819719,  0.01819719,  0.01819719,  0.01819719],\n",
       "        [ 0.18036791,  0.18036791,  0.18036791,  0.18036791,  0.18036791,\n",
       "          0.18036791,  0.18036791,  0.18036791,  0.18036791,  0.18036791,\n",
       "          0.18036791,  0.18036791,  0.18036791,  0.18036791,  0.18036791,\n",
       "          0.18036791,  0.18036791,  0.18036791,  0.18036791,  0.18036791,\n",
       "          0.18036791,  0.18036791,  0.18036791,  0.18036791,  0.18036791,\n",
       "          0.18036791,  0.18036791,  0.18036791,  0.18036791,  0.18036791],\n",
       "        [ 0.30091012,  0.30091012,  0.30091012,  0.30091012,  0.30091012,\n",
       "          0.30091012,  0.30091012,  0.30091012,  0.30091012,  0.30091012,\n",
       "          0.30091012,  0.30091012,  0.30091012,  0.30091012,  0.30091012,\n",
       "          0.30091012,  0.30091012,  0.30091012,  0.30091012,  0.30091012,\n",
       "          0.30091012,  0.30091012,  0.30091012,  0.30091012,  0.30091012,\n",
       "          0.30091012,  0.30091012,  0.30091012,  0.30091012,  0.30091012],\n",
       "        [ 0.91963199,  0.91963199,  0.91963199,  0.91963199,  0.91963199,\n",
       "          0.91963199,  0.91963199,  0.91963199,  0.91963199,  0.91963199,\n",
       "          0.91963199,  0.91963199,  0.91963199,  0.91963199,  0.91963199,\n",
       "          0.91963199,  0.91963199,  0.91963199,  0.91963199,  0.91963199,\n",
       "          0.91963199,  0.91963199,  0.91963199,  0.91963199,  0.91963199,\n",
       "          0.91963199,  0.91963199,  0.91963199,  0.91963199,  0.91963199],\n",
       "        [ 0.75043465,  0.75043465,  0.75043465,  0.75043465,  0.75043465,\n",
       "          0.75043465,  0.75043465,  0.75043465,  0.75043465,  0.75043465,\n",
       "          0.75043465,  0.75043465,  0.75043465,  0.75043465,  0.75043465,\n",
       "          0.75043465,  0.75043465,  0.75043465,  0.75043465,  0.75043465,\n",
       "          0.75043465,  0.75043465,  0.75043465,  0.75043465,  0.75043465,\n",
       "          0.75043465,  0.75043465,  0.75043465,  0.75043465,  0.75043465],\n",
       "        [ 0.26110371,  0.26110371,  0.26110371,  0.26110371,  0.26110371,\n",
       "          0.26110371,  0.26110371,  0.26110371,  0.26110371,  0.26110371,\n",
       "          0.26110371,  0.26110371,  0.26110371,  0.26110371,  0.26110371,\n",
       "          0.26110371,  0.26110371,  0.26110371,  0.26110371,  0.26110371,\n",
       "          0.26110371,  0.26110371,  0.26110371,  0.26110371,  0.26110371,\n",
       "          0.26110371,  0.26110371,  0.26110371,  0.26110371,  0.26110371],\n",
       "        [ 0.40581583,  0.40581583,  0.40581583,  0.40581583,  0.40581583,\n",
       "          0.40581583,  0.40581583,  0.40581583,  0.40581583,  0.40581583,\n",
       "          0.40581583,  0.40581583,  0.40581583,  0.40581583,  0.40581583,\n",
       "          0.40581583,  0.40581583,  0.40581583,  0.40581583,  0.40581583,\n",
       "          0.40581583,  0.40581583,  0.40581583,  0.40581583,  0.40581583,\n",
       "          0.40581583,  0.40581583,  0.40581583,  0.40581583,  0.40581583],\n",
       "        [ 0.23343521,  0.23343521,  0.23343521,  0.23343521,  0.23343521,\n",
       "          0.23343521,  0.23343521,  0.23343521,  0.23343521,  0.23343521,\n",
       "          0.23343521,  0.23343521,  0.23343521,  0.23343521,  0.23343521,\n",
       "          0.23343521,  0.23343521,  0.23343521,  0.23343521,  0.23343521,\n",
       "          0.23343521,  0.23343521,  0.23343521,  0.23343521,  0.23343521,\n",
       "          0.23343521,  0.23343521,  0.23343521,  0.23343521,  0.23343521],\n",
       "        [ 0.89247546,  0.89247546,  0.89247546,  0.89247546,  0.89247546,\n",
       "          0.89247546,  0.89247546,  0.89247546,  0.89247546,  0.89247546,\n",
       "          0.89247546,  0.89247546,  0.89247546,  0.89247546,  0.89247546,\n",
       "          0.89247546,  0.89247546,  0.89247546,  0.89247546,  0.89247546,\n",
       "          0.89247546,  0.89247546,  0.89247546,  0.89247546,  0.89247546,\n",
       "          0.89247546,  0.89247546,  0.89247546,  0.89247546,  0.89247546],\n",
       "        [ 0.64218777,  0.64218777,  0.64218777,  0.64218777,  0.64218777,\n",
       "          0.64218777,  0.64218777,  0.64218777,  0.64218777,  0.64218777,\n",
       "          0.64218777,  0.64218777,  0.64218777,  0.64218777,  0.64218777,\n",
       "          0.64218777,  0.64218777,  0.64218777,  0.64218777,  0.64218777,\n",
       "          0.64218777,  0.64218777,  0.64218777,  0.64218777,  0.64218777,\n",
       "          0.64218777,  0.64218777,  0.64218777,  0.64218777,  0.64218777],\n",
       "        [ 0.88110083,  0.88110083,  0.88110083,  0.88110083,  0.88110083,\n",
       "          0.88110083,  0.88110083,  0.88110083,  0.88110083,  0.88110083,\n",
       "          0.88110083,  0.88110083,  0.88110083,  0.88110083,  0.88110083,\n",
       "          0.88110083,  0.88110083,  0.88110083,  0.88110083,  0.88110083,\n",
       "          0.88110083,  0.88110083,  0.88110083,  0.88110083,  0.88110083,\n",
       "          0.88110083,  0.88110083,  0.88110083,  0.88110083,  0.88110083],\n",
       "        [ 0.11597444,  0.11597444,  0.11597444,  0.11597444,  0.11597444,\n",
       "          0.11597444,  0.11597444,  0.11597444,  0.11597444,  0.11597444,\n",
       "          0.11597444,  0.11597444,  0.11597444,  0.11597444,  0.11597444,\n",
       "          0.11597444,  0.11597444,  0.11597444,  0.11597444,  0.11597444,\n",
       "          0.11597444,  0.11597444,  0.11597444,  0.11597444,  0.11597444,\n",
       "          0.11597444,  0.11597444,  0.11597444,  0.11597444,  0.11597444],\n",
       "        [ 0.97576318,  0.97576318,  0.97576318,  0.97576318,  0.97576318,\n",
       "          0.97576318,  0.97576318,  0.97576318,  0.97576318,  0.97576318,\n",
       "          0.97576318,  0.97576318,  0.97576318,  0.97576318,  0.97576318,\n",
       "          0.97576318,  0.97576318,  0.97576318,  0.97576318,  0.97576318,\n",
       "          0.97576318,  0.97576318,  0.97576318,  0.97576318,  0.97576318,\n",
       "          0.97576318,  0.97576318,  0.97576318,  0.97576318,  0.97576318],\n",
       "        [ 0.17965523,  0.17965523,  0.17965523,  0.17965523,  0.17965523,\n",
       "          0.17965523,  0.17965523,  0.17965523,  0.17965523,  0.17965523,\n",
       "          0.17965523,  0.17965523,  0.17965523,  0.17965523,  0.17965523,\n",
       "          0.17965523,  0.17965523,  0.17965523,  0.17965523,  0.17965523,\n",
       "          0.17965523,  0.17965523,  0.17965523,  0.17965523,  0.17965523,\n",
       "          0.17965523,  0.17965523,  0.17965523,  0.17965523,  0.17965523],\n",
       "        [ 0.88162127,  0.88162127,  0.88162127,  0.88162127,  0.88162127,\n",
       "          0.88162127,  0.88162127,  0.88162127,  0.88162127,  0.88162127,\n",
       "          0.88162127,  0.88162127,  0.88162127,  0.88162127,  0.88162127,\n",
       "          0.88162127,  0.88162127,  0.88162127,  0.88162127,  0.88162127,\n",
       "          0.88162127,  0.88162127,  0.88162127,  0.88162127,  0.88162127,\n",
       "          0.88162127,  0.88162127,  0.88162127,  0.88162127,  0.88162127],\n",
       "        [ 0.56456726,  0.56456726,  0.56456726,  0.56456726,  0.56456726,\n",
       "          0.56456726,  0.56456726,  0.56456726,  0.56456726,  0.56456726,\n",
       "          0.56456726,  0.56456726,  0.56456726,  0.56456726,  0.56456726,\n",
       "          0.56456726,  0.56456726,  0.56456726,  0.56456726,  0.56456726,\n",
       "          0.56456726,  0.56456726,  0.56456726,  0.56456726,  0.56456726,\n",
       "          0.56456726,  0.56456726,  0.56456726,  0.56456726,  0.56456726],\n",
       "        [ 0.81797082,  0.81797082,  0.81797082,  0.81797082,  0.81797082,\n",
       "          0.81797082,  0.81797082,  0.81797082,  0.81797082,  0.81797082,\n",
       "          0.81797082,  0.81797082,  0.81797082,  0.81797082,  0.81797082,\n",
       "          0.81797082,  0.81797082,  0.81797082,  0.81797082,  0.81797082,\n",
       "          0.81797082,  0.81797082,  0.81797082,  0.81797082,  0.81797082,\n",
       "          0.81797082,  0.81797082,  0.81797082,  0.81797082,  0.81797082],\n",
       "        [ 0.9941236 ,  0.9941236 ,  0.9941236 ,  0.9941236 ,  0.9941236 ,\n",
       "          0.9941236 ,  0.9941236 ,  0.9941236 ,  0.9941236 ,  0.9941236 ,\n",
       "          0.9941236 ,  0.9941236 ,  0.9941236 ,  0.9941236 ,  0.9941236 ,\n",
       "          0.9941236 ,  0.9941236 ,  0.9941236 ,  0.9941236 ,  0.9941236 ,\n",
       "          0.9941236 ,  0.9941236 ,  0.9941236 ,  0.9941236 ,  0.9941236 ,\n",
       "          0.9941236 ,  0.9941236 ,  0.9941236 ,  0.9941236 ,  0.9941236 ],\n",
       "        [ 0.29122391,  0.29122391,  0.29122391,  0.29122391,  0.29122391,\n",
       "          0.29122391,  0.29122391,  0.29122391,  0.29122391,  0.29122391,\n",
       "          0.29122391,  0.29122391,  0.29122391,  0.29122391,  0.29122391,\n",
       "          0.29122391,  0.29122391,  0.29122391,  0.29122391,  0.29122391,\n",
       "          0.29122391,  0.29122391,  0.29122391,  0.29122391,  0.29122391,\n",
       "          0.29122391,  0.29122391,  0.29122391,  0.29122391,  0.29122391],\n",
       "        [ 0.28977293,  0.28977293,  0.28977293,  0.28977293,  0.28977293,\n",
       "          0.28977293,  0.28977293,  0.28977293,  0.28977293,  0.28977293,\n",
       "          0.28977293,  0.28977293,  0.28977293,  0.28977293,  0.28977293,\n",
       "          0.28977293,  0.28977293,  0.28977293,  0.28977293,  0.28977293,\n",
       "          0.28977293,  0.28977293,  0.28977293,  0.28977293,  0.28977293,\n",
       "          0.28977293,  0.28977293,  0.28977293,  0.28977293,  0.28977293],\n",
       "        [ 0.5431224 ,  0.5431224 ,  0.5431224 ,  0.5431224 ,  0.5431224 ,\n",
       "          0.5431224 ,  0.5431224 ,  0.5431224 ,  0.5431224 ,  0.5431224 ,\n",
       "          0.5431224 ,  0.5431224 ,  0.5431224 ,  0.5431224 ,  0.5431224 ,\n",
       "          0.5431224 ,  0.5431224 ,  0.5431224 ,  0.5431224 ,  0.5431224 ,\n",
       "          0.5431224 ,  0.5431224 ,  0.5431224 ,  0.5431224 ,  0.5431224 ,\n",
       "          0.5431224 ,  0.5431224 ,  0.5431224 ,  0.5431224 ,  0.5431224 ],\n",
       "        [ 0.44211407,  0.44211407,  0.44211407,  0.44211407,  0.44211407,\n",
       "          0.44211407,  0.44211407,  0.44211407,  0.44211407,  0.44211407,\n",
       "          0.44211407,  0.44211407,  0.44211407,  0.44211407,  0.44211407,\n",
       "          0.44211407,  0.44211407,  0.44211407,  0.44211407,  0.44211407,\n",
       "          0.44211407,  0.44211407,  0.44211407,  0.44211407,  0.44211407,\n",
       "          0.44211407,  0.44211407,  0.44211407,  0.44211407,  0.44211407],\n",
       "        [ 0.70906785,  0.70906785,  0.70906785,  0.70906785,  0.70906785,\n",
       "          0.70906785,  0.70906785,  0.70906785,  0.70906785,  0.70906785,\n",
       "          0.70906785,  0.70906785,  0.70906785,  0.70906785,  0.70906785,\n",
       "          0.70906785,  0.70906785,  0.70906785,  0.70906785,  0.70906785,\n",
       "          0.70906785,  0.70906785,  0.70906785,  0.70906785,  0.70906785,\n",
       "          0.70906785,  0.70906785,  0.70906785,  0.70906785,  0.70906785],\n",
       "        [ 0.20608634,  0.20608634,  0.20608634,  0.20608634,  0.20608634,\n",
       "          0.20608634,  0.20608634,  0.20608634,  0.20608634,  0.20608634,\n",
       "          0.20608634,  0.20608634,  0.20608634,  0.20608634,  0.20608634,\n",
       "          0.20608634,  0.20608634,  0.20608634,  0.20608634,  0.20608634,\n",
       "          0.20608634,  0.20608634,  0.20608634,  0.20608634,  0.20608634,\n",
       "          0.20608634,  0.20608634,  0.20608634,  0.20608634,  0.20608634],\n",
       "        [ 0.01630785,  0.01630785,  0.01630785,  0.01630785,  0.01630785,\n",
       "          0.01630785,  0.01630785,  0.01630785,  0.01630785,  0.01630785,\n",
       "          0.01630785,  0.01630785,  0.01630785,  0.01630785,  0.01630785,\n",
       "          0.01630785,  0.01630785,  0.01630785,  0.01630785,  0.01630785,\n",
       "          0.01630785,  0.01630785,  0.01630785,  0.01630785,  0.01630785,\n",
       "          0.01630785,  0.01630785,  0.01630785,  0.01630785,  0.01630785],\n",
       "        [ 0.70188548,  0.70188548,  0.70188548,  0.70188548,  0.70188548,\n",
       "          0.70188548,  0.70188548,  0.70188548,  0.70188548,  0.70188548,\n",
       "          0.70188548,  0.70188548,  0.70188548,  0.70188548,  0.70188548,\n",
       "          0.70188548,  0.70188548,  0.70188548,  0.70188548,  0.70188548,\n",
       "          0.70188548,  0.70188548,  0.70188548,  0.70188548,  0.70188548,\n",
       "          0.70188548,  0.70188548,  0.70188548,  0.70188548,  0.70188548]])"
      ]
     },
     "execution_count": 18,
     "metadata": {},
     "output_type": "execute_result"
    }
   ],
   "source": [
    "R[1, :].T - user_bias.reshape((user_bias.shape[0], 1)).T"
   ]
  },
  {
   "cell_type": "code",
   "execution_count": null,
   "metadata": {},
   "outputs": [],
   "source": []
  },
  {
   "cell_type": "code",
   "execution_count": null,
   "metadata": {},
   "outputs": [],
   "source": [
    "Xty = user_mat.T * (movie_rows[i%m_offset, :].T - user_bias)"
   ]
  },
  {
   "cell_type": "code",
   "execution_count": null,
   "metadata": {},
   "outputs": [],
   "source": []
  },
  {
   "cell_type": "code",
   "execution_count": null,
   "metadata": {},
   "outputs": [],
   "source": []
  },
  {
   "cell_type": "code",
   "execution_count": null,
   "metadata": {},
   "outputs": [],
   "source": [
    "b_movies = []\n",
    "b_users = []\n",
    "\n",
    "index = 0\n",
    "while index*m_offset < M:\n",
    "    b_movies.append(sc.broadcast(R[m_offset*index:(index+1)*m_offset]))\n",
    "    index += 1\n",
    "\n",
    "index = 0\n",
    "while index*u_offset < U:\n",
    "    b_users.append(sc.broadcast(R[:, u_offset*index:(index+1)*u_offset]))\n",
    "    index += 1"
   ]
  },
  {
   "cell_type": "code",
   "execution_count": null,
   "metadata": {},
   "outputs": [],
   "source": [
    "msb = sc.broadcast(ms)\n",
    "usb = sc.broadcast(us)\n",
    "b_user_bias = sc.broadcast(user_bias)\n",
    "b_movie_bias = sc.broadcast(movie_bias)"
   ]
  },
  {
   "cell_type": "code",
   "execution_count": null,
   "metadata": {},
   "outputs": [],
   "source": []
  },
  {
   "cell_type": "code",
   "execution_count": null,
   "metadata": {},
   "outputs": [],
   "source": [
    "LAMBDA = 0.01   # regularization\n",
    "np.random.seed(42)\n",
    "\n",
    "\n",
    "def rmse(R, ms, us):\n",
    "    diff_count = R - ms * us.T\n",
    "    return np.sqrt(np.sum(np.power(diff, 2)) / (M * U))\n",
    "\n",
    "def updateMovie(i, mat, movie_rows, m_offset):\n",
    "    uu = mat.shape[0]\n",
    "    ff = mat.shape[1]\n",
    "\n",
    "    XtX = mat.T * mat\n",
    "    Xty = mat.T * movie_rows[i%m_offset, :].T\n",
    "\n",
    "    for j in range(ff):\n",
    "        XtX[j, j] += LAMBDA * uu\n",
    "\n",
    "    return np.linalg.solve(XtX, Xty)\n",
    "\n",
    "\n",
    "\n",
    "def updateUser(i, mat, user_cols, u_offset):\n",
    "    uu = mat.shape[0]\n",
    "    ff = mat.shape[1]\n",
    "\n",
    "    XtX = mat.T * mat\n",
    "    Xty = mat.T * user_cols[i%u_offset, :].T\n",
    "\n",
    "    for j in range(ff):\n",
    "        XtX[j, j] += LAMBDA * uu\n",
    "\n",
    "    return np.linalg.solve(XtX, Xty)\n",
    "\n",
    "\n",
    "def updateMovie2(i, user_mat, movie_rows, m_offset, user_bias):\n",
    "    user_count = user_mat.shape[0]\n",
    "    \n",
    "    ones = np.ones((user_count, 1))\n",
    "    \n",
    "    user_mat = np.hstack((ones, user_mat))\n",
    "    \n",
    "    latent_count = user_mat.shape[1]\n",
    "\n",
    "    XtX = user_mat.T * user_mat\n",
    "    Xty = user_mat.T * (movie_rows[i%m_offset, :].T - user_bias)\n",
    "    \n",
    "#     print('Update Movie2 :')\n",
    "#     print(\"XtX : \", XtX.shape)\n",
    "#     print(\"Xty : \", Xty.shape)\n",
    "\n",
    "    for j in range(latent_count):\n",
    "        XtX[j, j] += LAMBDA\n",
    "\n",
    "    return np.linalg.solve(XtX, Xty)\n",
    "\n",
    "\n",
    "\n",
    "def updateUser2(i, movie_mat, user_cols, u_offset, movie_bias):\n",
    "    movie_count = movie_mat.shape[0]\n",
    "    \n",
    "    ones = np.ones((user_count, 1))\n",
    "    \n",
    "    movie_mat = np.hstack((ones, movie_mat))\n",
    "    \n",
    "    latent_count = movie_mat.shape[1]\n",
    "    \n",
    "    print(\"Starting user\")\n",
    "\n",
    "    XtX = movie_mat.T * movie_mat\n",
    "    Xty = movie_mat.T * (user_cols[i%u_offset, :].T - movie_bias)\n",
    "    \n",
    "    print('Update User :')\n",
    "    print(\"XtX : \", XtX.shape)\n",
    "    print(\"Xty : \", Xty.shape)\n",
    "\n",
    "    for j in range(latent_count):\n",
    "        XtX[j, j] += LAMBDA\n",
    "\n",
    "    return np.linalg.solve(XtX, Xty)\n"
   ]
  },
  {
   "cell_type": "code",
   "execution_count": null,
   "metadata": {},
   "outputs": [],
   "source": []
  },
  {
   "cell_type": "code",
   "execution_count": null,
   "metadata": {},
   "outputs": [],
   "source": [
    "for i in range(ITERATIONS):\n",
    "    ms = sc.parallelize(range(M), partitions) \\\n",
    "           .map(lambda x: updateMovie2(x, usb.value, b_movies[x/m_offset].value, m_offset, b_user_bias.value)) \\\n",
    "           .collect()\n",
    "    ms = matrix(np.array(ms)[:, :, 0])\n",
    "\n",
    "    movie_bias = ms[:, 0]\n",
    "    ms = ms[:, 1:]\n",
    "\n",
    "    msb = sc.broadcast(ms)\n",
    "    b_movie_bias = sc.broadcast(movie_bias)\n",
    "\n",
    "    print('Done with movies')\n",
    "\n",
    "    us = sc.parallelize(range(U), partitions) \\\n",
    "           .map(lambda x: updateUser2(x, msb.value, b_users[x/u_offset].value.T, u_offset, b_movie_bias.value)) \\\n",
    "           .collect()\n",
    "    us = matrix(np.array(us)[:, :, 0])\n",
    "\n",
    "    user_bias = us[:, 0]\n",
    "    us = us[:, 1:]\n",
    "\n",
    "    usb = sc.broadcast(us)\n",
    "    b_user_bias = sc.broadcast(user_bias)\n",
    "\n",
    "    error = rmse(R, ms, us)\n",
    "    print(\"Iteration %d:\" % i)\n",
    "    print(\"\\nRMSE: %5.4f\\n\" % error)"
   ]
  },
  {
   "cell_type": "code",
   "execution_count": null,
   "metadata": {},
   "outputs": [],
   "source": [
    "import pickle"
   ]
  },
  {
   "cell_type": "code",
   "execution_count": null,
   "metadata": {},
   "outputs": [],
   "source": [
    "with open('ms.bin', mode='wb') as model_binary:\n",
    "    pickle.dump(ms, model_binary)"
   ]
  },
  {
   "cell_type": "code",
   "execution_count": null,
   "metadata": {},
   "outputs": [],
   "source": [
    "with open('us.bin', mode='wb') as model_binary:\n",
    "    pickle.dump(us, model_binary)"
   ]
  },
  {
   "cell_type": "code",
   "execution_count": null,
   "metadata": {},
   "outputs": [],
   "source": [
    "with open('mappings.bin', mode='wb') as model_binary:\n",
    "    pickle.dump(mappings, model_binary)"
   ]
  },
  {
   "cell_type": "code",
   "execution_count": null,
   "metadata": {},
   "outputs": [],
   "source": [
    "class BestModel(object):\n",
    "    def __init__(self, movies, model, ratings, mappings):\n",
    "        self.ratings = ratings\n",
    "        self.model = model\n",
    "        self.mappings = mappings\n",
    "        self.movies = movies"
   ]
  },
  {
   "cell_type": "code",
   "execution_count": null,
   "metadata": {},
   "outputs": [],
   "source": [
    "from os import path\n",
    "import os"
   ]
  },
  {
   "cell_type": "code",
   "execution_count": null,
   "metadata": {},
   "outputs": [],
   "source": [
    "path.dirname( path.dirname( path.abspath('/Users/amit/WorkPro/warzone/movie-recommender/model') ))"
   ]
  },
  {
   "cell_type": "code",
   "execution_count": null,
   "metadata": {},
   "outputs": [],
   "source": [
    "import sys\n",
    "sys.path.append('/Users/amit/WorkPro/warzone/movie-recommender/')"
   ]
  },
  {
   "cell_type": "code",
   "execution_count": null,
   "metadata": {},
   "outputs": [],
   "source": [
    "from model import BestModel"
   ]
  },
  {
   "cell_type": "code",
   "execution_count": null,
   "metadata": {},
   "outputs": [],
   "source": [
    "class AlternatingLeastSquare(object):\n",
    "    USERS_MATRIX = 'users_matrix'\n",
    "    MOVIES_MATRIX = 'movies_matrix'\n",
    "    \n",
    "    def __init__(self, user_matrix, movies_matrix):\n",
    "        np.random.seed(0)\n",
    "        self.users_matrix = user_matrix\n",
    "        self.movies_matrix = movies_matrix\n",
    "\n",
    "    def predict(self, user, movie):\n",
    "        return self.users_matrix[user, :].dot(self.movies_matrix[movie, :].T)\n",
    "    \n",
    "    def predict_all(self):\n",
    "        # predictions = np.zeros((self.total_users, self.total_movies))\n",
    "        # for user in xrange(self.total_users):\n",
    "        #     for movie in xrange(self.total_movies):\n",
    "        #         predictions[user, movie] = self.predict(user, movie)\n",
    "\n",
    "        predictions = self.users_matrix.dot(self.movies_matrix.T)\n",
    "                \n",
    "        return predictions"
   ]
  },
  {
   "cell_type": "code",
   "execution_count": null,
   "metadata": {},
   "outputs": [],
   "source": [
    "from model import AlternatingLeastSquare"
   ]
  },
  {
   "cell_type": "code",
   "execution_count": null,
   "metadata": {},
   "outputs": [],
   "source": [
    "als = AlternatingLeastSquare(np.array([[]]))"
   ]
  },
  {
   "cell_type": "code",
   "execution_count": null,
   "metadata": {},
   "outputs": [],
   "source": [
    "als.users_matrix = np.array(us)\n",
    "als.movies_matrix = np.array(ms)"
   ]
  },
  {
   "cell_type": "code",
   "execution_count": null,
   "metadata": {},
   "outputs": [],
   "source": [
    "als = AlternatingLeastSquare(np.array(us), np.array(ms))"
   ]
  },
  {
   "cell_type": "code",
   "execution_count": null,
   "metadata": {},
   "outputs": [],
   "source": [
    "best_model = BestModel(movies, als, ratings_subset, mappings)"
   ]
  },
  {
   "cell_type": "code",
   "execution_count": null,
   "metadata": {},
   "outputs": [],
   "source": [
    "with open('../data/best_model.bin', mode='wb') as model_binary:\n",
    "    pickle.dump(best_model, model_binary)"
   ]
  },
  {
   "cell_type": "code",
   "execution_count": null,
   "metadata": {},
   "outputs": [],
   "source": [
    "movies.head()"
   ]
  },
  {
   "cell_type": "code",
   "execution_count": null,
   "metadata": {},
   "outputs": [],
   "source": [
    "cat = 'Animation'"
   ]
  },
  {
   "cell_type": "code",
   "execution_count": null,
   "metadata": {},
   "outputs": [],
   "source": [
    "movies[movies['genres'].str.contains(cat)][::-1][:20]"
   ]
  },
  {
   "cell_type": "code",
   "execution_count": null,
   "metadata": {},
   "outputs": [],
   "source": [
    "ids = movies[movies['genres'].str.contains(cat)][::-1]['movieId']"
   ]
  },
  {
   "cell_type": "code",
   "execution_count": null,
   "metadata": {},
   "outputs": [],
   "source": [
    "ids.values"
   ]
  },
  {
   "cell_type": "code",
   "execution_count": null,
   "metadata": {},
   "outputs": [],
   "source": [
    "recom_ids = [593, 296, 527, 1196, 2959, 50, 1198, 480, 2762, 3578, 2858, 47, 858, 457, 1270, 1, 150, 4306, 4226, 6539, 1240, 1291, 59315, 1704, 32, 60069, 1580, 6377, 590, 44191]\n"
   ]
  },
  {
   "cell_type": "code",
   "execution_count": null,
   "metadata": {},
   "outputs": [],
   "source": [
    "# ratings[ratings['movieId'].isin(ids.values)].groupby('userId')\n",
    "ratings_subset[ratings_subset['movieId'].isin(recom_ids)].groupby(by='movieId')['rating'].agg(['sum','count']).reset_index().sort_values('sum', ascending=False)\n"
   ]
  },
  {
   "cell_type": "code",
   "execution_count": null,
   "metadata": {},
   "outputs": [],
   "source": [
    "watched_ids = [73881, 6776, 76093, 79132, 36086, 33794, 27518, 91241, 91844, 71688, 94969, 73051, 97938, 98198, 98956, 99636, 105343, 106561, 82097, 107707, 109093, 79769, 109096, 117506, 74787, 73900, 73513, 94661, 110, 69136]\n"
   ]
  },
  {
   "cell_type": "code",
   "execution_count": null,
   "metadata": {},
   "outputs": [],
   "source": [
    "ratings_subset[ratings_subset['movieId'].isin(watched_ids)].groupby(by='movieId')['rating'].agg(['sum','count']).reset_index().sort_values('sum', ascending=False)\n"
   ]
  },
  {
   "cell_type": "code",
   "execution_count": null,
   "metadata": {},
   "outputs": [],
   "source": [
    "movies[movies['title'].str.contains('Raajneeti')]"
   ]
  },
  {
   "cell_type": "code",
   "execution_count": null,
   "metadata": {},
   "outputs": [],
   "source": []
  },
  {
   "cell_type": "code",
   "execution_count": null,
   "metadata": {},
   "outputs": [],
   "source": [
    "hindi_users = ratings_subset[ratings_subset['movieId'] == 79769].userId.values"
   ]
  },
  {
   "cell_type": "code",
   "execution_count": null,
   "metadata": {},
   "outputs": [],
   "source": [
    "hindi_users"
   ]
  },
  {
   "cell_type": "code",
   "execution_count": null,
   "metadata": {},
   "outputs": [],
   "source": [
    "ratings_subset[ratings_subset['userId'].isin(hindi_users)].groupby(by='movieId')"
   ]
  },
  {
   "cell_type": "code",
   "execution_count": null,
   "metadata": {},
   "outputs": [],
   "source": [
    "hindi_users = ratings_subset[ratings_subset['movieId'].isin(watched_ids)].groupby(by='userId')['rating'].agg(['sum','count']).reset_index().sort_values('userId')\n"
   ]
  },
  {
   "cell_type": "code",
   "execution_count": null,
   "metadata": {},
   "outputs": [],
   "source": [
    "hindi_users[hindi_users['userId'] < 50000]"
   ]
  },
  {
   "cell_type": "code",
   "execution_count": null,
   "metadata": {},
   "outputs": [],
   "source": []
  },
  {
   "cell_type": "code",
   "execution_count": null,
   "metadata": {},
   "outputs": [],
   "source": []
  },
  {
   "cell_type": "code",
   "execution_count": null,
   "metadata": {},
   "outputs": [],
   "source": [
    "movies[movies['title'].str.contains('Deewaar')]"
   ]
  },
  {
   "cell_type": "code",
   "execution_count": null,
   "metadata": {},
   "outputs": [],
   "source": [
    "ratings[ratings['userId'] == 79570].shape"
   ]
  },
  {
   "cell_type": "code",
   "execution_count": null,
   "metadata": {},
   "outputs": [],
   "source": [
    "ans = set()\n",
    "for x in movies['genres'].unique():\n",
    "    x = x.split('|')\n",
    "    for y in x:\n",
    "        ans.add(y)"
   ]
  },
  {
   "cell_type": "code",
   "execution_count": null,
   "metadata": {},
   "outputs": [],
   "source": [
    "ans = list(ans)"
   ]
  },
  {
   "cell_type": "code",
   "execution_count": null,
   "metadata": {},
   "outputs": [],
   "source": [
    "movies.columns"
   ]
  },
  {
   "cell_type": "code",
   "execution_count": null,
   "metadata": {},
   "outputs": [],
   "source": [
    "movies[movies['movieId'] == 69069]"
   ]
  },
  {
   "cell_type": "code",
   "execution_count": null,
   "metadata": {},
   "outputs": [],
   "source": [
    "def fu(row, genre):\n",
    "    if genre in row['genres']:\n",
    "        return 1\n",
    "    return 0"
   ]
  },
  {
   "cell_type": "code",
   "execution_count": null,
   "metadata": {},
   "outputs": [],
   "source": [
    "movies['Comedy'] = movies.apply(lambda x: fu(x, 'Comedy'), axis=1)"
   ]
  },
  {
   "cell_type": "code",
   "execution_count": null,
   "metadata": {},
   "outputs": [],
   "source": [
    "int(True)"
   ]
  },
  {
   "cell_type": "code",
   "execution_count": null,
   "metadata": {},
   "outputs": [],
   "source": [
    "movies.head()"
   ]
  },
  {
   "cell_type": "code",
   "execution_count": null,
   "metadata": {},
   "outputs": [],
   "source": []
  },
  {
   "cell_type": "code",
   "execution_count": null,
   "metadata": {},
   "outputs": [],
   "source": []
  },
  {
   "cell_type": "code",
   "execution_count": null,
   "metadata": {},
   "outputs": [],
   "source": [
    "print(ans)"
   ]
  },
  {
   "cell_type": "code",
   "execution_count": null,
   "metadata": {},
   "outputs": [],
   "source": [
    "for gen in ans:\n",
    "    movies[gen] = 0"
   ]
  },
  {
   "cell_type": "code",
   "execution_count": null,
   "metadata": {},
   "outputs": [],
   "source": [
    "ratings_subset[ratings_subset['userId'] == 353].sort_values('rating', ascending=False)[:30]['movieId'].values"
   ]
  },
  {
   "cell_type": "code",
   "execution_count": null,
   "metadata": {},
   "outputs": [],
   "source": [
    "years = map(str, range(2015, 2020))"
   ]
  },
  {
   "cell_type": "code",
   "execution_count": null,
   "metadata": {},
   "outputs": [],
   "source": [
    "years"
   ]
  },
  {
   "cell_type": "code",
   "execution_count": null,
   "metadata": {},
   "outputs": [],
   "source": [
    "movies[movies['title'].str.contains('|'.join(years)) & ~movies['title'].str.startswith('2')][:20]"
   ]
  },
  {
   "cell_type": "code",
   "execution_count": null,
   "metadata": {},
   "outputs": [],
   "source": [
    "groups = ratings_subset.groupby(by='movieId')['rating'].agg(['sum','count'])"
   ]
  },
  {
   "cell_type": "code",
   "execution_count": null,
   "metadata": {},
   "outputs": [],
   "source": [
    "groups = groups.reset_index()"
   ]
  },
  {
   "cell_type": "code",
   "execution_count": null,
   "metadata": {},
   "outputs": [],
   "source": [
    "groups['averageRating'] = groups['sum']/(1.0*groups['count'])"
   ]
  },
  {
   "cell_type": "code",
   "execution_count": null,
   "metadata": {},
   "outputs": [],
   "source": [
    "groups.head()"
   ]
  },
  {
   "cell_type": "code",
   "execution_count": null,
   "metadata": {},
   "outputs": [],
   "source": [
    "C = groups['averageRating'].mean()"
   ]
  },
  {
   "cell_type": "code",
   "execution_count": null,
   "metadata": {},
   "outputs": [],
   "source": [
    "m = groups['count'].quantile(0.90)"
   ]
  },
  {
   "cell_type": "code",
   "execution_count": null,
   "metadata": {},
   "outputs": [],
   "source": [
    "q_movies = groups.copy().loc[groups['count'] >= m]"
   ]
  },
  {
   "cell_type": "code",
   "execution_count": null,
   "metadata": {},
   "outputs": [],
   "source": [
    "q_movies.shape"
   ]
  },
  {
   "cell_type": "code",
   "execution_count": null,
   "metadata": {},
   "outputs": [],
   "source": []
  },
  {
   "cell_type": "code",
   "execution_count": null,
   "metadata": {},
   "outputs": [],
   "source": [
    "def bayesian_average(x, m=m, C=C):\n",
    "    v = x['count']\n",
    "    R = x['averageRating']\n",
    "    return (v/(v+m) * R) + (m/(m+v) * C)"
   ]
  },
  {
   "cell_type": "code",
   "execution_count": null,
   "metadata": {},
   "outputs": [],
   "source": [
    "q_movies['score'] = q_movies.apply(bayesian_average, axis=1)"
   ]
  },
  {
   "cell_type": "code",
   "execution_count": null,
   "metadata": {},
   "outputs": [],
   "source": [
    "q_movies = q_movies.sort_values('score', ascending=False)"
   ]
  },
  {
   "cell_type": "code",
   "execution_count": null,
   "metadata": {},
   "outputs": [],
   "source": [
    "q_movies[:10]['movieId'].values"
   ]
  },
  {
   "cell_type": "code",
   "execution_count": null,
   "metadata": {},
   "outputs": [],
   "source": [
    "movies[movies['movieId'].isin(q_movies['movieId'].values)].head(10)"
   ]
  },
  {
   "cell_type": "code",
   "execution_count": null,
   "metadata": {},
   "outputs": [],
   "source": [
    "pd.merge(movies, q_movies, how='inner',left_on=\"movieId\" , right_on='movieId').sort_values('score', ascending=False)"
   ]
  },
  {
   "cell_type": "code",
   "execution_count": null,
   "metadata": {},
   "outputs": [],
   "source": []
  },
  {
   "cell_type": "code",
   "execution_count": null,
   "metadata": {},
   "outputs": [],
   "source": []
  },
  {
   "cell_type": "code",
   "execution_count": null,
   "metadata": {},
   "outputs": [],
   "source": [
    "import numpy as np\n",
    "\n",
    "class Recommender(object):\n",
    "    def __init__(self, model_obj):\n",
    "        np.random.seed(0)\n",
    "        self.model_obj = model_obj\n",
    "        self.model = self.model_obj.model\n",
    "        self.mappings = self.model_obj.mappings\n",
    "        self.ratings = self.model_obj.ratings\n",
    "        self.movies = self.model_obj.movies\n",
    "\n",
    "    def getUserIdsFromMatrixIndexes(self, matrix_indexes, user_mapping, preserve_order=True):\n",
    "        user_ids = []\n",
    "        for index in matrix_indexes:\n",
    "            user_ids.append(user_mapping[index])\n",
    "        return user_ids\n",
    "\n",
    "    def getMovieIdsFromMatrixIndexes(self, matrix_indexes, preserve_order=True):\n",
    "        movie_ids = []\n",
    "        movie_mapping = self.mappings['movie_mapping']\n",
    "        for index in matrix_indexes:\n",
    "            movie_ids.append(movie_mapping[index])\n",
    "        return movie_ids\n",
    "\n",
    "    def getWatchedMovies(self, user_id):\n",
    "        rated_movies = self.ratings[self.ratings['userId'] == user_id]['movieId'].values.tolist()\n",
    "        return rated_movies\n",
    "\n",
    "    def recommendMoviesTo(self, user_id, limit=50):\n",
    "        user_index = self.mappings['r_user_mapping'][user_id]\n",
    "        user_vector = self.model.users_matrix[user_index, :]\n",
    "        user_ratings = user_vector.dot(self.model.movies_matrix.T)\n",
    "        highest_rated_movie_indexes = user_ratings.argsort()[::-1][:limit]\n",
    "        movie_ids = self.getMovieIdsFromMatrixIndexes(highest_rated_movie_indexes)\n",
    "        return movie_ids\n",
    "\n",
    "    def displayMovies(self, movie_ids):\n",
    "        movie_infos = []\n",
    "        for movie_id in movie_ids:\n",
    "            movie_info = self.movies[self.movies['movieId'] == movie_id].values.tolist()[0]\n",
    "            movie_infos.append(movie_info)\n",
    "        return movie_infos\n",
    "\n",
    "    def filterWatchedMovies(self, user_id, ordered_movie_ids):\n",
    "        all_movies = set(ordered_movie_ids)\n",
    "        rated_movies = set(self.getWatchedMovies(user_id))\n",
    "        not_watched = all_movies - rated_movies\n",
    "        ordered_not_watched = [movie_id for movie_id in ordered_movie_ids if movie_id not in rated_movies]\n",
    "        return ordered_not_watched\n",
    "\n",
    "# if __name__ == '__main__':\n",
    "#     recommender = Recommender()\n",
    "#     movie_ids = recommender.recommendMoviesTo(1, limit=300)\n",
    "#     print movie_ids\n",
    "#     print recommender.displayMovies(movie_ids)\n",
    "\n",
    "\n"
   ]
  },
  {
   "cell_type": "code",
   "execution_count": null,
   "metadata": {},
   "outputs": [],
   "source": [
    "recom = Recommender(best_model)"
   ]
  },
  {
   "cell_type": "code",
   "execution_count": null,
   "metadata": {},
   "outputs": [],
   "source": [
    "ids = recom.recommendMoviesTo(1, limit=300)"
   ]
  },
  {
   "cell_type": "code",
   "execution_count": null,
   "metadata": {},
   "outputs": [],
   "source": [
    "recom.displayMovies(ids)"
   ]
  },
  {
   "cell_type": "code",
   "execution_count": null,
   "metadata": {},
   "outputs": [],
   "source": []
  },
  {
   "cell_type": "code",
   "execution_count": null,
   "metadata": {},
   "outputs": [],
   "source": []
  },
  {
   "cell_type": "code",
   "execution_count": null,
   "metadata": {},
   "outputs": [],
   "source": []
  },
  {
   "cell_type": "code",
   "execution_count": null,
   "metadata": {},
   "outputs": [],
   "source": [
    "\n",
    "# offset = 11652\n",
    "\n",
    "# m_offset = 10000\n",
    "\n",
    "# Rb1 = sc.broadcast(R[0:offset])\n",
    "# Rb2 = sc.broadcast(R[offset:2*offset])\n",
    "\n",
    "# Rbm1 = sc.broadcast(R[:, 0:m_offset])\n",
    "# Rbm2 = sc.broadcast(R[:, m_offset:2*m_offset])"
   ]
  },
  {
   "cell_type": "code",
   "execution_count": null,
   "metadata": {},
   "outputs": [],
   "source": []
  },
  {
   "cell_type": "code",
   "execution_count": null,
   "metadata": {},
   "outputs": [],
   "source": [
    "type(ms)"
   ]
  },
  {
   "cell_type": "code",
   "execution_count": null,
   "metadata": {},
   "outputs": [],
   "source": [
    "arr = np.array(ms)"
   ]
  },
  {
   "cell_type": "code",
   "execution_count": null,
   "metadata": {},
   "outputs": [],
   "source": [
    "arr.shape"
   ]
  },
  {
   "cell_type": "code",
   "execution_count": null,
   "metadata": {},
   "outputs": [],
   "source": [
    "spark = SparkSession\\\n",
    "        .builder\\\n",
    "        .appName(\"MovieRecommender\")\\\n",
    "        .getOrCreate()\n",
    "\n",
    "\n",
    "sc = spark.sparkContext"
   ]
  },
  {
   "cell_type": "code",
   "execution_count": null,
   "metadata": {},
   "outputs": [],
   "source": [
    "ratings = sc.textFile('../data/rating.csv')\n",
    "ratings = ratings.map(lambda line: line.split(',')).map(lambda x: (int(x[0]), int(x[1]), float(x[2])))\n",
    "ratings_df = ratings.toDF(['userId', 'movieId', 'rating'])"
   ]
  },
  {
   "cell_type": "code",
   "execution_count": null,
   "metadata": {},
   "outputs": [],
   "source": [
    "ratings_df = ratings_df.drop('timestamp')"
   ]
  },
  {
   "cell_type": "code",
   "execution_count": null,
   "metadata": {},
   "outputs": [],
   "source": [
    "ratings_df.show()"
   ]
  },
  {
   "cell_type": "code",
   "execution_count": null,
   "metadata": {},
   "outputs": [],
   "source": [
    "d = ratings_df.groupBy(\"userId\").pivot(\"movieId\").avg(\"rating\")"
   ]
  },
  {
   "cell_type": "code",
   "execution_count": null,
   "metadata": {},
   "outputs": [],
   "source": [
    "spark.conf.set('spark.sql.pivotMaxValues', u'50000')"
   ]
  },
  {
   "cell_type": "code",
   "execution_count": null,
   "metadata": {},
   "outputs": [],
   "source": [
    "d = d.fillna(0)"
   ]
  },
  {
   "cell_type": "code",
   "execution_count": null,
   "metadata": {},
   "outputs": [],
   "source": [
    "data_array =  np.array(d.collect())"
   ]
  },
  {
   "cell_type": "code",
   "execution_count": null,
   "metadata": {},
   "outputs": [],
   "source": [
    "data_array.shape"
   ]
  },
  {
   "cell_type": "code",
   "execution_count": null,
   "metadata": {},
   "outputs": [],
   "source": [
    "d.columns"
   ]
  },
  {
   "cell_type": "code",
   "execution_count": null,
   "metadata": {},
   "outputs": [],
   "source": [
    "data_array[0:3, 1:]"
   ]
  },
  {
   "cell_type": "code",
   "execution_count": null,
   "metadata": {},
   "outputs": [],
   "source": [
    "d.show(n=1)"
   ]
  },
  {
   "cell_type": "code",
   "execution_count": null,
   "metadata": {},
   "outputs": [],
   "source": [
    "type(d)"
   ]
  },
  {
   "cell_type": "code",
   "execution_count": null,
   "metadata": {},
   "outputs": [],
   "source": [
    "dir(d)"
   ]
  },
  {
   "cell_type": "code",
   "execution_count": null,
   "metadata": {},
   "outputs": [],
   "source": []
  },
  {
   "cell_type": "code",
   "execution_count": null,
   "metadata": {},
   "outputs": [],
   "source": [
    "df = pd.read_csv('../data/subset.csv', header = None, names = ['userId', 'movieId', 'rating', 'timestamp'])"
   ]
  },
  {
   "cell_type": "code",
   "execution_count": null,
   "metadata": {},
   "outputs": [],
   "source": []
  },
  {
   "cell_type": "code",
   "execution_count": null,
   "metadata": {},
   "outputs": [],
   "source": []
  },
  {
   "cell_type": "code",
   "execution_count": null,
   "metadata": {},
   "outputs": [],
   "source": []
  },
  {
   "cell_type": "code",
   "execution_count": null,
   "metadata": {},
   "outputs": [],
   "source": []
  },
  {
   "cell_type": "code",
   "execution_count": null,
   "metadata": {},
   "outputs": [],
   "source": [
    "small_ratings_raw_data = sc.textFile('../data/ratings.csv')\n",
    "small_ratings_raw_data_header = small_ratings_raw_data.take(1)[0]\n"
   ]
  },
  {
   "cell_type": "code",
   "execution_count": null,
   "metadata": {},
   "outputs": [],
   "source": [
    "small_ratings_data = small_ratings_raw_data.filter(lambda line: line!=small_ratings_raw_data_header)\\\n",
    "    .map(lambda line: line.split(\",\")).map(lambda tokens: (tokens[0],tokens[1],tokens[2])).cache()"
   ]
  },
  {
   "cell_type": "code",
   "execution_count": null,
   "metadata": {},
   "outputs": [],
   "source": [
    "small_ratings_data.take(3)"
   ]
  },
  {
   "cell_type": "code",
   "execution_count": null,
   "metadata": {},
   "outputs": [],
   "source": [
    "training_RDD, validation_RDD, test_RDD = small_ratings_data.randomSplit([6, 2, 2], seed=0)\n",
    "validation_for_predict_RDD = validation_RDD.map(lambda x: (x[0], x[1]))\n",
    "test_for_predict_RDD = test_RDD.map(lambda x: (x[0], x[1]))"
   ]
  },
  {
   "cell_type": "code",
   "execution_count": null,
   "metadata": {},
   "outputs": [],
   "source": [
    "from pyspark.mllib.recommendation import ALS\n",
    "import math\n",
    "\n",
    "seed = 5\n",
    "iterations = 10\n",
    "regularization_parameter = 0.1\n",
    "ranks = [4, 8, 12]\n",
    "errors = [0, 0, 0]\n",
    "err = 0\n",
    "tolerance = 0.02\n",
    "\n",
    "model = ALS.train(training_RDD, 12, seed=seed, iterations=iterations,\n",
    "                  lambda_=regularization_parameter)\n",
    "\n",
    "predictions = model.predictAll(validation_for_predict_RDD).map(lambda r: ((r[0], r[1]), r[2]))\n",
    "rates_and_preds = validation_RDD.map(lambda r: ((int(r[0]), int(r[1])), float(r[2]))).join(predictions)\n",
    "error = math.sqrt(rates_and_preds.map(lambda r: (r[1][0] - r[1][1])**2).mean())\n",
    "errors[err] = error\n",
    "err += 1\n",
    "print ('For rank %s the RMSE is %s' % (12, error))"
   ]
  },
  {
   "cell_type": "code",
   "execution_count": null,
   "metadata": {},
   "outputs": [],
   "source": []
  }
 ],
 "metadata": {
  "kernelspec": {
   "display_name": "Python 3",
   "language": "python",
   "name": "python3"
  },
  "language_info": {
   "codemirror_mode": {
    "name": "ipython",
    "version": 2
   },
   "file_extension": ".py",
   "mimetype": "text/x-python",
   "name": "python",
   "nbconvert_exporter": "python",
   "pygments_lexer": "ipython2",
   "version": "2.7.14"
  }
 },
 "nbformat": 4,
 "nbformat_minor": 2
}
